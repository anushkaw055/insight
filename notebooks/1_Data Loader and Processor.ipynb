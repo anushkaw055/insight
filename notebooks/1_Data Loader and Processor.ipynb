{
 "cells": [
  {
   "cell_type": "code",
   "execution_count": 2,
   "metadata": {},
   "outputs": [],
   "source": [
    "import numpy as np\n",
    "import pandas\n",
    "import os\n",
    "import matplotlib.pyplot as plt\n",
    "import seaborn as sns\n",
    "from sklearn.preprocessing import power_transform\n",
    "\n",
    "%matplotlib inline\n",
    "plt.rcParams['figure.figsize'] = [10, 8]"
   ]
  },
  {
   "cell_type": "markdown",
   "metadata": {},
   "source": [
    "### Define data directory and file name to load"
   ]
  },
  {
   "cell_type": "code",
   "execution_count": 19,
   "metadata": {},
   "outputs": [],
   "source": [
    "day_of_week = 'Wednesday'\n",
    "\n",
    "data_directory='../data/raw'\n",
    "file_name=day_of_week+'-WorkingHours.pcap_ISCX.csv'\n",
    "\n",
    "data_file=os.path.join(data_directory,file_name)"
   ]
  },
  {
   "cell_type": "markdown",
   "metadata": {},
   "source": [
    "Tried the package loader from github clean code"
   ]
  },
  {
   "cell_type": "code",
   "execution_count": 4,
   "metadata": {},
   "outputs": [],
   "source": [
    "# from anomalyzer.config import data_file"
   ]
  },
  {
   "cell_type": "markdown",
   "metadata": {},
   "source": [
    "### Load the data frame"
   ]
  },
  {
   "cell_type": "code",
   "execution_count": 5,
   "metadata": {
    "scrolled": true
   },
   "outputs": [
    {
     "name": "stdout",
     "output_type": "stream",
     "text": [
      "<class 'pandas.core.frame.DataFrame'>\n",
      "RangeIndex: 692703 entries, 0 to 692702\n",
      "Data columns (total 79 columns):\n",
      "Destination Port               692703 non-null int64\n",
      "Flow Duration                  692703 non-null int64\n",
      "Total Fwd Packets              692703 non-null int64\n",
      "Total Backward Packets         692703 non-null int64\n",
      "Total Length of Fwd Packets    692703 non-null int64\n",
      "Total Length of Bwd Packets    692703 non-null int64\n",
      "Fwd Packet Length Max          692703 non-null int64\n",
      "Fwd Packet Length Min          692703 non-null int64\n",
      "Fwd Packet Length Mean         692703 non-null float64\n",
      "Fwd Packet Length Std          692703 non-null float64\n",
      "Bwd Packet Length Max          692703 non-null int64\n",
      "Bwd Packet Length Min          692703 non-null int64\n",
      "Bwd Packet Length Mean         692703 non-null float64\n",
      "Bwd Packet Length Std          692703 non-null float64\n",
      "Flow Bytes/s                   691695 non-null object\n",
      "Flow Packets/s                 692703 non-null object\n",
      "Flow IAT Mean                  692703 non-null float64\n",
      "Flow IAT Std                   692703 non-null float64\n",
      "Flow IAT Max                   692703 non-null int64\n",
      "Flow IAT Min                   692703 non-null int64\n",
      "Fwd IAT Total                  692703 non-null int64\n",
      "Fwd IAT Mean                   692703 non-null float64\n",
      "Fwd IAT Std                    692703 non-null float64\n",
      "Fwd IAT Max                    692703 non-null int64\n",
      "Fwd IAT Min                    692703 non-null int64\n",
      "Bwd IAT Total                  692703 non-null int64\n",
      "Bwd IAT Mean                   692703 non-null float64\n",
      "Bwd IAT Std                    692703 non-null float64\n",
      "Bwd IAT Max                    692703 non-null int64\n",
      "Bwd IAT Min                    692703 non-null int64\n",
      "Fwd PSH Flags                  692703 non-null int64\n",
      "Bwd PSH Flags                  692703 non-null int64\n",
      "Fwd URG Flags                  692703 non-null int64\n",
      "Bwd URG Flags                  692703 non-null int64\n",
      "Fwd Header Length              692703 non-null int64\n",
      "Bwd Header Length              692703 non-null int64\n",
      "Fwd Packets/s                  692703 non-null float64\n",
      "Bwd Packets/s                  692703 non-null float64\n",
      "Min Packet Length              692703 non-null int64\n",
      "Max Packet Length              692703 non-null int64\n",
      "Packet Length Mean             692703 non-null float64\n",
      "Packet Length Std              692703 non-null float64\n",
      "Packet Length Variance         692703 non-null float64\n",
      "FIN Flag Count                 692703 non-null int64\n",
      "SYN Flag Count                 692703 non-null int64\n",
      "RST Flag Count                 692703 non-null int64\n",
      "PSH Flag Count                 692703 non-null int64\n",
      "ACK Flag Count                 692703 non-null int64\n",
      "URG Flag Count                 692703 non-null int64\n",
      "CWE Flag Count                 692703 non-null int64\n",
      "ECE Flag Count                 692703 non-null int64\n",
      "Down/Up Ratio                  692703 non-null int64\n",
      "Average Packet Size            692703 non-null float64\n",
      "Avg Fwd Segment Size           692703 non-null float64\n",
      "Avg Bwd Segment Size           692703 non-null float64\n",
      "Fwd Header Length.1            692703 non-null int64\n",
      "Fwd Avg Bytes/Bulk             692703 non-null int64\n",
      "Fwd Avg Packets/Bulk           692703 non-null int64\n",
      "Fwd Avg Bulk Rate              692703 non-null int64\n",
      "Bwd Avg Bytes/Bulk             692703 non-null int64\n",
      "Bwd Avg Packets/Bulk           692703 non-null int64\n",
      "Bwd Avg Bulk Rate              692703 non-null int64\n",
      "Subflow Fwd Packets            692703 non-null int64\n",
      "Subflow Fwd Bytes              692703 non-null int64\n",
      "Subflow Bwd Packets            692703 non-null int64\n",
      "Subflow Bwd Bytes              692703 non-null int64\n",
      "Init_Win_bytes_forward         692703 non-null int64\n",
      "Init_Win_bytes_backward        692703 non-null int64\n",
      "act_data_pkt_fwd               692703 non-null int64\n",
      "min_seg_size_forward           692703 non-null int64\n",
      "Active Mean                    692703 non-null float64\n",
      "Active Std                     692703 non-null float64\n",
      "Active Max                     692703 non-null int64\n",
      "Active Min                     692703 non-null int64\n",
      "Idle Mean                      692703 non-null float64\n",
      "Idle Std                       692703 non-null float64\n",
      "Idle Max                       692703 non-null int64\n",
      "Idle Min                       692703 non-null int64\n",
      "Label                          692703 non-null object\n",
      "dtypes: float64(22), int64(54), object(3)\n",
      "memory usage: 417.5+ MB\n"
     ]
    }
   ],
   "source": [
    "df=pandas.read_csv(data_file,skipinitialspace=True,low_memory=False)\n",
    "df.info()"
   ]
  },
  {
   "cell_type": "markdown",
   "metadata": {},
   "source": [
    "Some of the features have the character '/' in them, which might be problematic. Therefore, such features are renamed to be on the safe side."
   ]
  },
  {
   "cell_type": "code",
   "execution_count": 7,
   "metadata": {},
   "outputs": [],
   "source": [
    "df.rename(columns={'Flow Bytes/s':'Flow Bytes per sec',\n",
    "                   'Flow Packets/s':'Flow Packets per sec',\n",
    "                   'Fwd Packets/s':'Fwd Packets per sec',\n",
    "                   'Bwd Packets/s':'Bwd Packets per sec',\n",
    "                   'Fwd Avg Bytes/Bulk':'Fwd Avg Bytes per Bulk',\n",
    "                   'Fwd Avg Packets/Bulk':'Fwd Avg Packets per Bulk',\n",
    "                   'Bwd Avg Bytes/Bulk':'Bwd Avg Bytes per Bulk',\n",
    "                   'Bwd Avg Packets/Bulk':'Bwd Avg Packets per Bulk',\n",
    "                   'Down/Up Ratio':'Down Up Ratio'\n",
    "                  },inplace=True)"
   ]
  },
  {
   "cell_type": "markdown",
   "metadata": {},
   "source": [
    "We also quickly check the distibution of attacks in the data set."
   ]
  },
  {
   "cell_type": "code",
   "execution_count": 8,
   "metadata": {},
   "outputs": [
    {
     "data": {
      "text/plain": [
       "BENIGN              0.635238\n",
       "DoS Hulk            0.333582\n",
       "DoS GoldenEye       0.014859\n",
       "DoS slowloris       0.008367\n",
       "DoS Slowhttptest    0.007938\n",
       "Heartbleed          0.000016\n",
       "Name: Label, dtype: float64"
      ]
     },
     "execution_count": 8,
     "metadata": {},
     "output_type": "execute_result"
    }
   ],
   "source": [
    "df['Label'].value_counts(normalize=True)"
   ]
  },
  {
   "cell_type": "markdown",
   "metadata": {},
   "source": [
    "It looks like 96.90% of the row in our dataset are BENIGN communications and the remaining 3.10% are attacks on the network."
   ]
  },
  {
   "cell_type": "markdown",
   "metadata": {},
   "source": [
    "## Data Cleaning"
   ]
  },
  {
   "cell_type": "markdown",
   "metadata": {},
   "source": [
    "### Remove NaN values from the data frame"
   ]
  },
  {
   "cell_type": "code",
   "execution_count": 9,
   "metadata": {
    "scrolled": true
   },
   "outputs": [
    {
     "data": {
      "text/plain": [
       "int64      54\n",
       "float64    22\n",
       "object      3\n",
       "dtype: int64"
      ]
     },
     "execution_count": 9,
     "metadata": {},
     "output_type": "execute_result"
    }
   ],
   "source": [
    "clean_df=df.dropna()\n",
    "clean_df.dtypes.value_counts()"
   ]
  },
  {
   "cell_type": "code",
   "execution_count": 10,
   "metadata": {},
   "outputs": [
    {
     "data": {
      "text/html": [
       "<div>\n",
       "<style scoped>\n",
       "    .dataframe tbody tr th:only-of-type {\n",
       "        vertical-align: middle;\n",
       "    }\n",
       "\n",
       "    .dataframe tbody tr th {\n",
       "        vertical-align: top;\n",
       "    }\n",
       "\n",
       "    .dataframe thead th {\n",
       "        text-align: right;\n",
       "    }\n",
       "</style>\n",
       "<table border=\"1\" class=\"dataframe\">\n",
       "  <thead>\n",
       "    <tr style=\"text-align: right;\">\n",
       "      <th></th>\n",
       "      <th>Destination Port</th>\n",
       "      <th>Flow Duration</th>\n",
       "      <th>Total Fwd Packets</th>\n",
       "      <th>Total Backward Packets</th>\n",
       "      <th>Total Length of Fwd Packets</th>\n",
       "      <th>Total Length of Bwd Packets</th>\n",
       "      <th>Fwd Packet Length Max</th>\n",
       "      <th>Fwd Packet Length Min</th>\n",
       "      <th>Fwd Packet Length Mean</th>\n",
       "      <th>Fwd Packet Length Std</th>\n",
       "      <th>...</th>\n",
       "      <th>min_seg_size_forward</th>\n",
       "      <th>Active Mean</th>\n",
       "      <th>Active Std</th>\n",
       "      <th>Active Max</th>\n",
       "      <th>Active Min</th>\n",
       "      <th>Idle Mean</th>\n",
       "      <th>Idle Std</th>\n",
       "      <th>Idle Max</th>\n",
       "      <th>Idle Min</th>\n",
       "      <th>Label</th>\n",
       "    </tr>\n",
       "  </thead>\n",
       "  <tbody>\n",
       "    <tr>\n",
       "      <td>0</td>\n",
       "      <td>80</td>\n",
       "      <td>38308</td>\n",
       "      <td>1</td>\n",
       "      <td>1</td>\n",
       "      <td>6</td>\n",
       "      <td>6</td>\n",
       "      <td>6</td>\n",
       "      <td>6</td>\n",
       "      <td>6.000000</td>\n",
       "      <td>0.000000</td>\n",
       "      <td>...</td>\n",
       "      <td>20</td>\n",
       "      <td>0.0</td>\n",
       "      <td>0.0</td>\n",
       "      <td>0</td>\n",
       "      <td>0</td>\n",
       "      <td>0.0</td>\n",
       "      <td>0.0</td>\n",
       "      <td>0</td>\n",
       "      <td>0</td>\n",
       "      <td>BENIGN</td>\n",
       "    </tr>\n",
       "    <tr>\n",
       "      <td>1</td>\n",
       "      <td>389</td>\n",
       "      <td>479</td>\n",
       "      <td>11</td>\n",
       "      <td>5</td>\n",
       "      <td>172</td>\n",
       "      <td>326</td>\n",
       "      <td>79</td>\n",
       "      <td>0</td>\n",
       "      <td>15.636364</td>\n",
       "      <td>31.449238</td>\n",
       "      <td>...</td>\n",
       "      <td>32</td>\n",
       "      <td>0.0</td>\n",
       "      <td>0.0</td>\n",
       "      <td>0</td>\n",
       "      <td>0</td>\n",
       "      <td>0.0</td>\n",
       "      <td>0.0</td>\n",
       "      <td>0</td>\n",
       "      <td>0</td>\n",
       "      <td>BENIGN</td>\n",
       "    </tr>\n",
       "    <tr>\n",
       "      <td>2</td>\n",
       "      <td>88</td>\n",
       "      <td>1095</td>\n",
       "      <td>10</td>\n",
       "      <td>6</td>\n",
       "      <td>3150</td>\n",
       "      <td>3150</td>\n",
       "      <td>1575</td>\n",
       "      <td>0</td>\n",
       "      <td>315.000000</td>\n",
       "      <td>632.561635</td>\n",
       "      <td>...</td>\n",
       "      <td>32</td>\n",
       "      <td>0.0</td>\n",
       "      <td>0.0</td>\n",
       "      <td>0</td>\n",
       "      <td>0</td>\n",
       "      <td>0.0</td>\n",
       "      <td>0.0</td>\n",
       "      <td>0</td>\n",
       "      <td>0</td>\n",
       "      <td>BENIGN</td>\n",
       "    </tr>\n",
       "    <tr>\n",
       "      <td>3</td>\n",
       "      <td>389</td>\n",
       "      <td>15206</td>\n",
       "      <td>17</td>\n",
       "      <td>12</td>\n",
       "      <td>3452</td>\n",
       "      <td>6660</td>\n",
       "      <td>1313</td>\n",
       "      <td>0</td>\n",
       "      <td>203.058824</td>\n",
       "      <td>425.778474</td>\n",
       "      <td>...</td>\n",
       "      <td>32</td>\n",
       "      <td>0.0</td>\n",
       "      <td>0.0</td>\n",
       "      <td>0</td>\n",
       "      <td>0</td>\n",
       "      <td>0.0</td>\n",
       "      <td>0.0</td>\n",
       "      <td>0</td>\n",
       "      <td>0</td>\n",
       "      <td>BENIGN</td>\n",
       "    </tr>\n",
       "    <tr>\n",
       "      <td>4</td>\n",
       "      <td>88</td>\n",
       "      <td>1092</td>\n",
       "      <td>9</td>\n",
       "      <td>6</td>\n",
       "      <td>3150</td>\n",
       "      <td>3152</td>\n",
       "      <td>1575</td>\n",
       "      <td>0</td>\n",
       "      <td>350.000000</td>\n",
       "      <td>694.509719</td>\n",
       "      <td>...</td>\n",
       "      <td>32</td>\n",
       "      <td>0.0</td>\n",
       "      <td>0.0</td>\n",
       "      <td>0</td>\n",
       "      <td>0</td>\n",
       "      <td>0.0</td>\n",
       "      <td>0.0</td>\n",
       "      <td>0</td>\n",
       "      <td>0</td>\n",
       "      <td>BENIGN</td>\n",
       "    </tr>\n",
       "  </tbody>\n",
       "</table>\n",
       "<p>5 rows × 79 columns</p>\n",
       "</div>"
      ],
      "text/plain": [
       "   Destination Port  Flow Duration  Total Fwd Packets  Total Backward Packets  \\\n",
       "0                80          38308                  1                       1   \n",
       "1               389            479                 11                       5   \n",
       "2                88           1095                 10                       6   \n",
       "3               389          15206                 17                      12   \n",
       "4                88           1092                  9                       6   \n",
       "\n",
       "   Total Length of Fwd Packets  Total Length of Bwd Packets  \\\n",
       "0                            6                            6   \n",
       "1                          172                          326   \n",
       "2                         3150                         3150   \n",
       "3                         3452                         6660   \n",
       "4                         3150                         3152   \n",
       "\n",
       "   Fwd Packet Length Max  Fwd Packet Length Min  Fwd Packet Length Mean  \\\n",
       "0                      6                      6                6.000000   \n",
       "1                     79                      0               15.636364   \n",
       "2                   1575                      0              315.000000   \n",
       "3                   1313                      0              203.058824   \n",
       "4                   1575                      0              350.000000   \n",
       "\n",
       "   Fwd Packet Length Std  ...  min_seg_size_forward  Active Mean  Active Std  \\\n",
       "0               0.000000  ...                    20          0.0         0.0   \n",
       "1              31.449238  ...                    32          0.0         0.0   \n",
       "2             632.561635  ...                    32          0.0         0.0   \n",
       "3             425.778474  ...                    32          0.0         0.0   \n",
       "4             694.509719  ...                    32          0.0         0.0   \n",
       "\n",
       "   Active Max Active Min Idle Mean  Idle Std  Idle Max  Idle Min   Label  \n",
       "0           0          0       0.0       0.0         0         0  BENIGN  \n",
       "1           0          0       0.0       0.0         0         0  BENIGN  \n",
       "2           0          0       0.0       0.0         0         0  BENIGN  \n",
       "3           0          0       0.0       0.0         0         0  BENIGN  \n",
       "4           0          0       0.0       0.0         0         0  BENIGN  \n",
       "\n",
       "[5 rows x 79 columns]"
      ]
     },
     "execution_count": 10,
     "metadata": {},
     "output_type": "execute_result"
    }
   ],
   "source": [
    "clean_df.head()"
   ]
  },
  {
   "cell_type": "code",
   "execution_count": 11,
   "metadata": {
    "scrolled": true
   },
   "outputs": [
    {
     "name": "stdout",
     "output_type": "stream",
     "text": [
      "<class 'pandas.core.frame.DataFrame'>\n",
      "Int64Index: 691695 entries, 0 to 692702\n",
      "Data columns (total 79 columns):\n",
      "Destination Port               691695 non-null int64\n",
      "Flow Duration                  691695 non-null int64\n",
      "Total Fwd Packets              691695 non-null int64\n",
      "Total Backward Packets         691695 non-null int64\n",
      "Total Length of Fwd Packets    691695 non-null int64\n",
      "Total Length of Bwd Packets    691695 non-null int64\n",
      "Fwd Packet Length Max          691695 non-null int64\n",
      "Fwd Packet Length Min          691695 non-null int64\n",
      "Fwd Packet Length Mean         691695 non-null float64\n",
      "Fwd Packet Length Std          691695 non-null float64\n",
      "Bwd Packet Length Max          691695 non-null int64\n",
      "Bwd Packet Length Min          691695 non-null int64\n",
      "Bwd Packet Length Mean         691695 non-null float64\n",
      "Bwd Packet Length Std          691695 non-null float64\n",
      "Flow Bytes per sec             691695 non-null object\n",
      "Flow Packets per sec           691695 non-null object\n",
      "Flow IAT Mean                  691695 non-null float64\n",
      "Flow IAT Std                   691695 non-null float64\n",
      "Flow IAT Max                   691695 non-null int64\n",
      "Flow IAT Min                   691695 non-null int64\n",
      "Fwd IAT Total                  691695 non-null int64\n",
      "Fwd IAT Mean                   691695 non-null float64\n",
      "Fwd IAT Std                    691695 non-null float64\n",
      "Fwd IAT Max                    691695 non-null int64\n",
      "Fwd IAT Min                    691695 non-null int64\n",
      "Bwd IAT Total                  691695 non-null int64\n",
      "Bwd IAT Mean                   691695 non-null float64\n",
      "Bwd IAT Std                    691695 non-null float64\n",
      "Bwd IAT Max                    691695 non-null int64\n",
      "Bwd IAT Min                    691695 non-null int64\n",
      "Fwd PSH Flags                  691695 non-null int64\n",
      "Bwd PSH Flags                  691695 non-null int64\n",
      "Fwd URG Flags                  691695 non-null int64\n",
      "Bwd URG Flags                  691695 non-null int64\n",
      "Fwd Header Length              691695 non-null int64\n",
      "Bwd Header Length              691695 non-null int64\n",
      "Fwd Packets per sec            691695 non-null float64\n",
      "Bwd Packets per sec            691695 non-null float64\n",
      "Min Packet Length              691695 non-null int64\n",
      "Max Packet Length              691695 non-null int64\n",
      "Packet Length Mean             691695 non-null float64\n",
      "Packet Length Std              691695 non-null float64\n",
      "Packet Length Variance         691695 non-null float64\n",
      "FIN Flag Count                 691695 non-null int64\n",
      "SYN Flag Count                 691695 non-null int64\n",
      "RST Flag Count                 691695 non-null int64\n",
      "PSH Flag Count                 691695 non-null int64\n",
      "ACK Flag Count                 691695 non-null int64\n",
      "URG Flag Count                 691695 non-null int64\n",
      "CWE Flag Count                 691695 non-null int64\n",
      "ECE Flag Count                 691695 non-null int64\n",
      "Down Up Ratio                  691695 non-null int64\n",
      "Average Packet Size            691695 non-null float64\n",
      "Avg Fwd Segment Size           691695 non-null float64\n",
      "Avg Bwd Segment Size           691695 non-null float64\n",
      "Fwd Header Length.1            691695 non-null int64\n",
      "Fwd Avg Bytes per Bulk         691695 non-null int64\n",
      "Fwd Avg Packets per Bulk       691695 non-null int64\n",
      "Fwd Avg Bulk Rate              691695 non-null int64\n",
      "Bwd Avg Bytes per Bulk         691695 non-null int64\n",
      "Bwd Avg Packets per Bulk       691695 non-null int64\n",
      "Bwd Avg Bulk Rate              691695 non-null int64\n",
      "Subflow Fwd Packets            691695 non-null int64\n",
      "Subflow Fwd Bytes              691695 non-null int64\n",
      "Subflow Bwd Packets            691695 non-null int64\n",
      "Subflow Bwd Bytes              691695 non-null int64\n",
      "Init_Win_bytes_forward         691695 non-null int64\n",
      "Init_Win_bytes_backward        691695 non-null int64\n",
      "act_data_pkt_fwd               691695 non-null int64\n",
      "min_seg_size_forward           691695 non-null int64\n",
      "Active Mean                    691695 non-null float64\n",
      "Active Std                     691695 non-null float64\n",
      "Active Max                     691695 non-null int64\n",
      "Active Min                     691695 non-null int64\n",
      "Idle Mean                      691695 non-null float64\n",
      "Idle Std                       691695 non-null float64\n",
      "Idle Max                       691695 non-null int64\n",
      "Idle Min                       691695 non-null int64\n",
      "Label                          691695 non-null object\n",
      "dtypes: float64(22), int64(54), object(3)\n",
      "memory usage: 422.2+ MB\n"
     ]
    }
   ],
   "source": [
    "clean_df.info()"
   ]
  },
  {
   "cell_type": "markdown",
   "metadata": {},
   "source": [
    "There are still two 'object' type features in the dataset: Flow Bytes per sec and Flow Packets per sec"
   ]
  },
  {
   "cell_type": "markdown",
   "metadata": {},
   "source": [
    "### We now need to remove 'Infinity' values typed as string from the data."
   ]
  },
  {
   "cell_type": "code",
   "execution_count": 12,
   "metadata": {},
   "outputs": [
    {
     "name": "stdout",
     "output_type": "stream",
     "text": [
      "Int64Index([  1392,   2041,   2395,   3097,   3789,   4301,   4939,   6553,\n",
      "              6906,   7782,\n",
      "            ...\n",
      "            682173, 682608, 683534, 683845, 684697, 684953, 685244, 686669,\n",
      "            686814, 687994],\n",
      "           dtype='int64', length=289)\n"
     ]
    }
   ],
   "source": [
    "index_to_drop=clean_df.index[(clean_df['Flow Packets per sec']=='Infinity')|(clean_df['Flow Bytes per sec']=='Infinity')]\n",
    "print(index_to_drop)"
   ]
  },
  {
   "cell_type": "code",
   "execution_count": 13,
   "metadata": {},
   "outputs": [],
   "source": [
    "final_df=clean_df.drop(index_to_drop)"
   ]
  },
  {
   "cell_type": "code",
   "execution_count": 14,
   "metadata": {},
   "outputs": [],
   "source": [
    "final_df['Flow Bytes per sec']=final_df['Flow Bytes per sec'].astype('float')\n",
    "final_df['Flow Packets per sec']=final_df['Flow Packets per sec'].astype('float')"
   ]
  },
  {
   "cell_type": "code",
   "execution_count": 15,
   "metadata": {
    "scrolled": true
   },
   "outputs": [
    {
     "name": "stdout",
     "output_type": "stream",
     "text": [
      "<class 'pandas.core.frame.DataFrame'>\n",
      "Int64Index: 691406 entries, 0 to 692702\n",
      "Data columns (total 79 columns):\n",
      "Destination Port               691406 non-null int64\n",
      "Flow Duration                  691406 non-null int64\n",
      "Total Fwd Packets              691406 non-null int64\n",
      "Total Backward Packets         691406 non-null int64\n",
      "Total Length of Fwd Packets    691406 non-null int64\n",
      "Total Length of Bwd Packets    691406 non-null int64\n",
      "Fwd Packet Length Max          691406 non-null int64\n",
      "Fwd Packet Length Min          691406 non-null int64\n",
      "Fwd Packet Length Mean         691406 non-null float64\n",
      "Fwd Packet Length Std          691406 non-null float64\n",
      "Bwd Packet Length Max          691406 non-null int64\n",
      "Bwd Packet Length Min          691406 non-null int64\n",
      "Bwd Packet Length Mean         691406 non-null float64\n",
      "Bwd Packet Length Std          691406 non-null float64\n",
      "Flow Bytes per sec             691406 non-null float64\n",
      "Flow Packets per sec           691406 non-null float64\n",
      "Flow IAT Mean                  691406 non-null float64\n",
      "Flow IAT Std                   691406 non-null float64\n",
      "Flow IAT Max                   691406 non-null int64\n",
      "Flow IAT Min                   691406 non-null int64\n",
      "Fwd IAT Total                  691406 non-null int64\n",
      "Fwd IAT Mean                   691406 non-null float64\n",
      "Fwd IAT Std                    691406 non-null float64\n",
      "Fwd IAT Max                    691406 non-null int64\n",
      "Fwd IAT Min                    691406 non-null int64\n",
      "Bwd IAT Total                  691406 non-null int64\n",
      "Bwd IAT Mean                   691406 non-null float64\n",
      "Bwd IAT Std                    691406 non-null float64\n",
      "Bwd IAT Max                    691406 non-null int64\n",
      "Bwd IAT Min                    691406 non-null int64\n",
      "Fwd PSH Flags                  691406 non-null int64\n",
      "Bwd PSH Flags                  691406 non-null int64\n",
      "Fwd URG Flags                  691406 non-null int64\n",
      "Bwd URG Flags                  691406 non-null int64\n",
      "Fwd Header Length              691406 non-null int64\n",
      "Bwd Header Length              691406 non-null int64\n",
      "Fwd Packets per sec            691406 non-null float64\n",
      "Bwd Packets per sec            691406 non-null float64\n",
      "Min Packet Length              691406 non-null int64\n",
      "Max Packet Length              691406 non-null int64\n",
      "Packet Length Mean             691406 non-null float64\n",
      "Packet Length Std              691406 non-null float64\n",
      "Packet Length Variance         691406 non-null float64\n",
      "FIN Flag Count                 691406 non-null int64\n",
      "SYN Flag Count                 691406 non-null int64\n",
      "RST Flag Count                 691406 non-null int64\n",
      "PSH Flag Count                 691406 non-null int64\n",
      "ACK Flag Count                 691406 non-null int64\n",
      "URG Flag Count                 691406 non-null int64\n",
      "CWE Flag Count                 691406 non-null int64\n",
      "ECE Flag Count                 691406 non-null int64\n",
      "Down Up Ratio                  691406 non-null int64\n",
      "Average Packet Size            691406 non-null float64\n",
      "Avg Fwd Segment Size           691406 non-null float64\n",
      "Avg Bwd Segment Size           691406 non-null float64\n",
      "Fwd Header Length.1            691406 non-null int64\n",
      "Fwd Avg Bytes per Bulk         691406 non-null int64\n",
      "Fwd Avg Packets per Bulk       691406 non-null int64\n",
      "Fwd Avg Bulk Rate              691406 non-null int64\n",
      "Bwd Avg Bytes per Bulk         691406 non-null int64\n",
      "Bwd Avg Packets per Bulk       691406 non-null int64\n",
      "Bwd Avg Bulk Rate              691406 non-null int64\n",
      "Subflow Fwd Packets            691406 non-null int64\n",
      "Subflow Fwd Bytes              691406 non-null int64\n",
      "Subflow Bwd Packets            691406 non-null int64\n",
      "Subflow Bwd Bytes              691406 non-null int64\n",
      "Init_Win_bytes_forward         691406 non-null int64\n",
      "Init_Win_bytes_backward        691406 non-null int64\n",
      "act_data_pkt_fwd               691406 non-null int64\n",
      "min_seg_size_forward           691406 non-null int64\n",
      "Active Mean                    691406 non-null float64\n",
      "Active Std                     691406 non-null float64\n",
      "Active Max                     691406 non-null int64\n",
      "Active Min                     691406 non-null int64\n",
      "Idle Mean                      691406 non-null float64\n",
      "Idle Std                       691406 non-null float64\n",
      "Idle Max                       691406 non-null int64\n",
      "Idle Min                       691406 non-null int64\n",
      "Label                          691406 non-null object\n",
      "dtypes: float64(24), int64(54), object(1)\n",
      "memory usage: 422.0+ MB\n"
     ]
    }
   ],
   "source": [
    "final_df.info()"
   ]
  },
  {
   "cell_type": "markdown",
   "metadata": {},
   "source": [
    "Finally, we notice there are two columns called **Fwd Header Length** and **Fwd Header Length.1**. We check if they are identical and drop one of them if true."
   ]
  },
  {
   "cell_type": "code",
   "execution_count": 18,
   "metadata": {
    "collapsed": true,
    "jupyter": {
     "outputs_hidden": true
    }
   },
   "outputs": [
    {
     "ename": "KeyError",
     "evalue": "'Fwd Header Length.1'",
     "output_type": "error",
     "traceback": [
      "\u001b[1;31m---------------------------------------------------------------------------\u001b[0m",
      "\u001b[1;31mKeyError\u001b[0m                                  Traceback (most recent call last)",
      "\u001b[1;32m~\\Anaconda3\\envs\\insight\\lib\\site-packages\\pandas\\core\\indexes\\base.py\u001b[0m in \u001b[0;36mget_loc\u001b[1;34m(self, key, method, tolerance)\u001b[0m\n\u001b[0;32m   2896\u001b[0m             \u001b[1;32mtry\u001b[0m\u001b[1;33m:\u001b[0m\u001b[1;33m\u001b[0m\u001b[1;33m\u001b[0m\u001b[0m\n\u001b[1;32m-> 2897\u001b[1;33m                 \u001b[1;32mreturn\u001b[0m \u001b[0mself\u001b[0m\u001b[1;33m.\u001b[0m\u001b[0m_engine\u001b[0m\u001b[1;33m.\u001b[0m\u001b[0mget_loc\u001b[0m\u001b[1;33m(\u001b[0m\u001b[0mkey\u001b[0m\u001b[1;33m)\u001b[0m\u001b[1;33m\u001b[0m\u001b[1;33m\u001b[0m\u001b[0m\n\u001b[0m\u001b[0;32m   2898\u001b[0m             \u001b[1;32mexcept\u001b[0m \u001b[0mKeyError\u001b[0m\u001b[1;33m:\u001b[0m\u001b[1;33m\u001b[0m\u001b[1;33m\u001b[0m\u001b[0m\n",
      "\u001b[1;32mpandas\\_libs\\index.pyx\u001b[0m in \u001b[0;36mpandas._libs.index.IndexEngine.get_loc\u001b[1;34m()\u001b[0m\n",
      "\u001b[1;32mpandas\\_libs\\index.pyx\u001b[0m in \u001b[0;36mpandas._libs.index.IndexEngine.get_loc\u001b[1;34m()\u001b[0m\n",
      "\u001b[1;32mpandas\\_libs\\hashtable_class_helper.pxi\u001b[0m in \u001b[0;36mpandas._libs.hashtable.PyObjectHashTable.get_item\u001b[1;34m()\u001b[0m\n",
      "\u001b[1;32mpandas\\_libs\\hashtable_class_helper.pxi\u001b[0m in \u001b[0;36mpandas._libs.hashtable.PyObjectHashTable.get_item\u001b[1;34m()\u001b[0m\n",
      "\u001b[1;31mKeyError\u001b[0m: 'Fwd Header Length.1'",
      "\nDuring handling of the above exception, another exception occurred:\n",
      "\u001b[1;31mKeyError\u001b[0m                                  Traceback (most recent call last)",
      "\u001b[1;32m<ipython-input-18-0bf5a61b1a3b>\u001b[0m in \u001b[0;36m<module>\u001b[1;34m\u001b[0m\n\u001b[1;32m----> 1\u001b[1;33m \u001b[1;32mif\u001b[0m \u001b[0msum\u001b[0m\u001b[1;33m(\u001b[0m\u001b[0mfinal_df\u001b[0m\u001b[1;33m[\u001b[0m\u001b[1;34m'Fwd Header Length'\u001b[0m\u001b[1;33m]\u001b[0m\u001b[1;33m-\u001b[0m\u001b[0mfinal_df\u001b[0m\u001b[1;33m[\u001b[0m\u001b[1;34m'Fwd Header Length.1'\u001b[0m\u001b[1;33m]\u001b[0m\u001b[1;33m)\u001b[0m\u001b[1;33m==\u001b[0m\u001b[1;36m0\u001b[0m\u001b[1;33m:\u001b[0m\u001b[1;33m\u001b[0m\u001b[1;33m\u001b[0m\u001b[0m\n\u001b[0m\u001b[0;32m      2\u001b[0m     \u001b[0mfinal_df\u001b[0m\u001b[1;33m.\u001b[0m\u001b[0mdrop\u001b[0m\u001b[1;33m(\u001b[0m\u001b[1;33m[\u001b[0m\u001b[1;34m'Fwd Header Length.1'\u001b[0m\u001b[1;33m]\u001b[0m\u001b[1;33m,\u001b[0m\u001b[0maxis\u001b[0m\u001b[1;33m=\u001b[0m\u001b[1;36m1\u001b[0m\u001b[1;33m,\u001b[0m\u001b[0minplace\u001b[0m\u001b[1;33m=\u001b[0m\u001b[1;32mTrue\u001b[0m\u001b[1;33m)\u001b[0m\u001b[1;33m\u001b[0m\u001b[1;33m\u001b[0m\u001b[0m\n",
      "\u001b[1;32m~\\Anaconda3\\envs\\insight\\lib\\site-packages\\pandas\\core\\frame.py\u001b[0m in \u001b[0;36m__getitem__\u001b[1;34m(self, key)\u001b[0m\n\u001b[0;32m   2978\u001b[0m             \u001b[1;32mif\u001b[0m \u001b[0mself\u001b[0m\u001b[1;33m.\u001b[0m\u001b[0mcolumns\u001b[0m\u001b[1;33m.\u001b[0m\u001b[0mnlevels\u001b[0m \u001b[1;33m>\u001b[0m \u001b[1;36m1\u001b[0m\u001b[1;33m:\u001b[0m\u001b[1;33m\u001b[0m\u001b[1;33m\u001b[0m\u001b[0m\n\u001b[0;32m   2979\u001b[0m                 \u001b[1;32mreturn\u001b[0m \u001b[0mself\u001b[0m\u001b[1;33m.\u001b[0m\u001b[0m_getitem_multilevel\u001b[0m\u001b[1;33m(\u001b[0m\u001b[0mkey\u001b[0m\u001b[1;33m)\u001b[0m\u001b[1;33m\u001b[0m\u001b[1;33m\u001b[0m\u001b[0m\n\u001b[1;32m-> 2980\u001b[1;33m             \u001b[0mindexer\u001b[0m \u001b[1;33m=\u001b[0m \u001b[0mself\u001b[0m\u001b[1;33m.\u001b[0m\u001b[0mcolumns\u001b[0m\u001b[1;33m.\u001b[0m\u001b[0mget_loc\u001b[0m\u001b[1;33m(\u001b[0m\u001b[0mkey\u001b[0m\u001b[1;33m)\u001b[0m\u001b[1;33m\u001b[0m\u001b[1;33m\u001b[0m\u001b[0m\n\u001b[0m\u001b[0;32m   2981\u001b[0m             \u001b[1;32mif\u001b[0m \u001b[0mis_integer\u001b[0m\u001b[1;33m(\u001b[0m\u001b[0mindexer\u001b[0m\u001b[1;33m)\u001b[0m\u001b[1;33m:\u001b[0m\u001b[1;33m\u001b[0m\u001b[1;33m\u001b[0m\u001b[0m\n\u001b[0;32m   2982\u001b[0m                 \u001b[0mindexer\u001b[0m \u001b[1;33m=\u001b[0m \u001b[1;33m[\u001b[0m\u001b[0mindexer\u001b[0m\u001b[1;33m]\u001b[0m\u001b[1;33m\u001b[0m\u001b[1;33m\u001b[0m\u001b[0m\n",
      "\u001b[1;32m~\\Anaconda3\\envs\\insight\\lib\\site-packages\\pandas\\core\\indexes\\base.py\u001b[0m in \u001b[0;36mget_loc\u001b[1;34m(self, key, method, tolerance)\u001b[0m\n\u001b[0;32m   2897\u001b[0m                 \u001b[1;32mreturn\u001b[0m \u001b[0mself\u001b[0m\u001b[1;33m.\u001b[0m\u001b[0m_engine\u001b[0m\u001b[1;33m.\u001b[0m\u001b[0mget_loc\u001b[0m\u001b[1;33m(\u001b[0m\u001b[0mkey\u001b[0m\u001b[1;33m)\u001b[0m\u001b[1;33m\u001b[0m\u001b[1;33m\u001b[0m\u001b[0m\n\u001b[0;32m   2898\u001b[0m             \u001b[1;32mexcept\u001b[0m \u001b[0mKeyError\u001b[0m\u001b[1;33m:\u001b[0m\u001b[1;33m\u001b[0m\u001b[1;33m\u001b[0m\u001b[0m\n\u001b[1;32m-> 2899\u001b[1;33m                 \u001b[1;32mreturn\u001b[0m \u001b[0mself\u001b[0m\u001b[1;33m.\u001b[0m\u001b[0m_engine\u001b[0m\u001b[1;33m.\u001b[0m\u001b[0mget_loc\u001b[0m\u001b[1;33m(\u001b[0m\u001b[0mself\u001b[0m\u001b[1;33m.\u001b[0m\u001b[0m_maybe_cast_indexer\u001b[0m\u001b[1;33m(\u001b[0m\u001b[0mkey\u001b[0m\u001b[1;33m)\u001b[0m\u001b[1;33m)\u001b[0m\u001b[1;33m\u001b[0m\u001b[1;33m\u001b[0m\u001b[0m\n\u001b[0m\u001b[0;32m   2900\u001b[0m         \u001b[0mindexer\u001b[0m \u001b[1;33m=\u001b[0m \u001b[0mself\u001b[0m\u001b[1;33m.\u001b[0m\u001b[0mget_indexer\u001b[0m\u001b[1;33m(\u001b[0m\u001b[1;33m[\u001b[0m\u001b[0mkey\u001b[0m\u001b[1;33m]\u001b[0m\u001b[1;33m,\u001b[0m \u001b[0mmethod\u001b[0m\u001b[1;33m=\u001b[0m\u001b[0mmethod\u001b[0m\u001b[1;33m,\u001b[0m \u001b[0mtolerance\u001b[0m\u001b[1;33m=\u001b[0m\u001b[0mtolerance\u001b[0m\u001b[1;33m)\u001b[0m\u001b[1;33m\u001b[0m\u001b[1;33m\u001b[0m\u001b[0m\n\u001b[0;32m   2901\u001b[0m         \u001b[1;32mif\u001b[0m \u001b[0mindexer\u001b[0m\u001b[1;33m.\u001b[0m\u001b[0mndim\u001b[0m \u001b[1;33m>\u001b[0m \u001b[1;36m1\u001b[0m \u001b[1;32mor\u001b[0m \u001b[0mindexer\u001b[0m\u001b[1;33m.\u001b[0m\u001b[0msize\u001b[0m \u001b[1;33m>\u001b[0m \u001b[1;36m1\u001b[0m\u001b[1;33m:\u001b[0m\u001b[1;33m\u001b[0m\u001b[1;33m\u001b[0m\u001b[0m\n",
      "\u001b[1;32mpandas\\_libs\\index.pyx\u001b[0m in \u001b[0;36mpandas._libs.index.IndexEngine.get_loc\u001b[1;34m()\u001b[0m\n",
      "\u001b[1;32mpandas\\_libs\\index.pyx\u001b[0m in \u001b[0;36mpandas._libs.index.IndexEngine.get_loc\u001b[1;34m()\u001b[0m\n",
      "\u001b[1;32mpandas\\_libs\\hashtable_class_helper.pxi\u001b[0m in \u001b[0;36mpandas._libs.hashtable.PyObjectHashTable.get_item\u001b[1;34m()\u001b[0m\n",
      "\u001b[1;32mpandas\\_libs\\hashtable_class_helper.pxi\u001b[0m in \u001b[0;36mpandas._libs.hashtable.PyObjectHashTable.get_item\u001b[1;34m()\u001b[0m\n",
      "\u001b[1;31mKeyError\u001b[0m: 'Fwd Header Length.1'"
     ]
    }
   ],
   "source": [
    "if sum(final_df['Fwd Header Length']-final_df['Fwd Header Length.1'])==0:\n",
    "    final_df.drop(['Fwd Header Length.1'],axis=1,inplace=True)"
   ]
  },
  {
   "cell_type": "markdown",
   "metadata": {},
   "source": [
    "Now that our data frame is clean, we can pickle it into the cleaned data directory."
   ]
  },
  {
   "cell_type": "code",
   "execution_count": 21,
   "metadata": {},
   "outputs": [],
   "source": [
    "final_df.to_pickle('../data/cleaned/'+day_of_week+'_clean.pkl')"
   ]
  },
  {
   "cell_type": "markdown",
   "metadata": {},
   "source": [
    "## Data Processing"
   ]
  },
  {
   "cell_type": "markdown",
   "metadata": {},
   "source": [
    "Let's start by plotting histograms of the features we have in our dataset. All files are saved into the ./figures directory for later referencing."
   ]
  },
  {
   "cell_type": "code",
   "execution_count": 22,
   "metadata": {},
   "outputs": [],
   "source": [
    "features=final_df.columns.values"
   ]
  },
  {
   "cell_type": "code",
   "execution_count": 26,
   "metadata": {
    "scrolled": true
   },
   "outputs": [],
   "source": [
    "for index, feature in enumerate(features,1):\n",
    "    fig = plt.figure()\n",
    "    final_df[feature].hist()\n",
    "    plt.title(feature+' Distribution')\n",
    "    plt.xlabel('Value')\n",
    "    plt.ylabel('Count')\n",
    "    plt.savefig('./figures/'+day_of_week+'/original_features/'+str(index)+'_'+feature+'_Histogram.png')\n",
    "    plt.close(fig)"
   ]
  },
  {
   "cell_type": "markdown",
   "metadata": {},
   "source": [
    "A cursory look at the histograms show us two things:\n",
    "\n",
    "1. Some of the values seem to have a single spike indicating we need to look for features with a single value. Since these features carry no information, we should identify and remove them from the data frame.\n",
    "\n",
    "2. The range of values for most of the attributes is quite large, resulting in largely skewed distributions. A log transform should be applied."
   ]
  },
  {
   "cell_type": "markdown",
   "metadata": {},
   "source": [
    "### 1.  Find the columns that have a single value and drop them from the dataframe"
   ]
  },
  {
   "cell_type": "code",
   "execution_count": 27,
   "metadata": {},
   "outputs": [
    {
     "data": {
      "text/plain": [
       "['Bwd PSH Flags',\n",
       " 'Fwd URG Flags',\n",
       " 'Bwd URG Flags',\n",
       " 'CWE Flag Count',\n",
       " 'Fwd Avg Bytes per Bulk',\n",
       " 'Fwd Avg Packets per Bulk',\n",
       " 'Fwd Avg Bulk Rate',\n",
       " 'Bwd Avg Bytes per Bulk',\n",
       " 'Bwd Avg Packets per Bulk',\n",
       " 'Bwd Avg Bulk Rate']"
      ]
     },
     "execution_count": 27,
     "metadata": {},
     "output_type": "execute_result"
    }
   ],
   "source": [
    "columns_to_drop=[]\n",
    "for feature in features:\n",
    "    if final_df[feature].unique().size==1:\n",
    "        columns_to_drop.append(feature)\n",
    "columns_to_drop"
   ]
  },
  {
   "cell_type": "code",
   "execution_count": 28,
   "metadata": {},
   "outputs": [],
   "source": [
    "reduced_df=final_df.drop(columns_to_drop,axis=1)"
   ]
  },
  {
   "cell_type": "code",
   "execution_count": 29,
   "metadata": {},
   "outputs": [
    {
     "data": {
      "text/plain": [
       "array(['Destination Port', 'Flow Duration', 'Total Fwd Packets',\n",
       "       'Total Backward Packets', 'Total Length of Fwd Packets',\n",
       "       'Total Length of Bwd Packets', 'Fwd Packet Length Max',\n",
       "       'Fwd Packet Length Min', 'Fwd Packet Length Mean',\n",
       "       'Fwd Packet Length Std', 'Bwd Packet Length Max',\n",
       "       'Bwd Packet Length Min', 'Bwd Packet Length Mean',\n",
       "       'Bwd Packet Length Std', 'Flow Bytes per sec',\n",
       "       'Flow Packets per sec', 'Flow IAT Mean', 'Flow IAT Std',\n",
       "       'Flow IAT Max', 'Flow IAT Min', 'Fwd IAT Total', 'Fwd IAT Mean',\n",
       "       'Fwd IAT Std', 'Fwd IAT Max', 'Fwd IAT Min', 'Bwd IAT Total',\n",
       "       'Bwd IAT Mean', 'Bwd IAT Std', 'Bwd IAT Max', 'Bwd IAT Min',\n",
       "       'Fwd PSH Flags', 'Fwd Header Length', 'Bwd Header Length',\n",
       "       'Fwd Packets per sec', 'Bwd Packets per sec', 'Min Packet Length',\n",
       "       'Max Packet Length', 'Packet Length Mean', 'Packet Length Std',\n",
       "       'Packet Length Variance', 'FIN Flag Count', 'SYN Flag Count',\n",
       "       'RST Flag Count', 'PSH Flag Count', 'ACK Flag Count',\n",
       "       'URG Flag Count', 'ECE Flag Count', 'Down Up Ratio',\n",
       "       'Average Packet Size', 'Avg Fwd Segment Size',\n",
       "       'Avg Bwd Segment Size', 'Subflow Fwd Packets', 'Subflow Fwd Bytes',\n",
       "       'Subflow Bwd Packets', 'Subflow Bwd Bytes',\n",
       "       'Init_Win_bytes_forward', 'Init_Win_bytes_backward',\n",
       "       'act_data_pkt_fwd', 'min_seg_size_forward', 'Active Mean',\n",
       "       'Active Std', 'Active Max', 'Active Min', 'Idle Mean', 'Idle Std',\n",
       "       'Idle Max', 'Idle Min', 'Label'], dtype=object)"
      ]
     },
     "execution_count": 29,
     "metadata": {},
     "output_type": "execute_result"
    }
   ],
   "source": [
    "reduced_features=reduced_df.columns.values\n",
    "reduced_features"
   ]
  },
  {
   "cell_type": "markdown",
   "metadata": {},
   "source": [
    "10 features have been removed, leaving us with 78-10=68 features. \n",
    "\n",
    "Let's save their histograms in a separate directory. This will help us choose features for further transformations to come from the remaining feature set."
   ]
  },
  {
   "cell_type": "code",
   "execution_count": 30,
   "metadata": {},
   "outputs": [],
   "source": [
    "for index, feature in enumerate(reduced_features,1):\n",
    "    fig = plt.figure()\n",
    "    reduced_df[feature].hist()\n",
    "    plt.title(feature+' Distribution')\n",
    "    plt.xlabel('Value')\n",
    "    plt.ylabel('Count')\n",
    "    plt.savefig('./figures/'+day_of_week+'/reduced_features/'+str(index)+'_'+feature+'_Histogram.png')\n",
    "    plt.close(fig)"
   ]
  },
  {
   "cell_type": "markdown",
   "metadata": {},
   "source": [
    "### 2. Skewness transforms\n",
    "\n",
    "The histograms also showed us that the range of values for some of the features was very large, resulting in largely skewed values. Now let's try to do a transform on the remaining features to try to reshape their distribution to a more \"normal\" looking form."
   ]
  },
  {
   "cell_type": "code",
   "execution_count": 31,
   "metadata": {
    "scrolled": true
   },
   "outputs": [],
   "source": [
    "transform_candidates=np.array(['Flow Duration', 'Total Fwd Packets',\n",
    "       'Total Backward Packets', 'Total Length of Fwd Packets',\n",
    "       'Total Length of Bwd Packets', 'Fwd Packet Length Max',\n",
    "       'Fwd Packet Length Min', 'Fwd Packet Length Mean',\n",
    "       'Fwd Packet Length Std', 'Bwd Packet Length Max',\n",
    "       'Bwd Packet Length Min', 'Bwd Packet Length Mean',\n",
    "       'Bwd Packet Length Std', 'Flow Bytes per sec',\n",
    "       'Flow Packets per sec', 'Flow IAT Mean', 'Flow IAT Std',\n",
    "       'Flow IAT Max', 'Flow IAT Min', 'Fwd IAT Total', 'Fwd IAT Mean',\n",
    "       'Fwd IAT Std', 'Fwd IAT Max', 'Fwd IAT Min', 'Bwd IAT Total',\n",
    "       'Bwd IAT Mean', 'Bwd IAT Std', 'Bwd IAT Max', 'Bwd IAT Min',\n",
    "       'Fwd Header Length', 'Bwd Header Length',\n",
    "       'Fwd Packets per sec', 'Bwd Packets per sec', 'Min Packet Length',\n",
    "       'Max Packet Length', 'Packet Length Mean', 'Packet Length Std',\n",
    "       'Packet Length Variance',  'Down Up Ratio',\n",
    "       'Average Packet Size', 'Avg Fwd Segment Size',\n",
    "       'Avg Bwd Segment Size', 'Subflow Fwd Packets', 'Subflow Fwd Bytes',\n",
    "       'Subflow Bwd Packets', 'Subflow Bwd Bytes',\n",
    "       'Init_Win_bytes_forward', 'Init_Win_bytes_backward',\n",
    "       'act_data_pkt_fwd', 'min_seg_size_forward', 'Active Mean',\n",
    "       'Active Std', 'Active Max', 'Active Min', 'Idle Mean', 'Idle Std',\n",
    "       'Idle Max', 'Idle Min'])"
   ]
  },
  {
   "cell_type": "markdown",
   "metadata": {},
   "source": [
    "There are 10 (one being the class label) features excluded from the transformation list. These features are binary valued, therefore transformation does not make sense."
   ]
  },
  {
   "cell_type": "code",
   "execution_count": 32,
   "metadata": {},
   "outputs": [
    {
     "data": {
      "text/plain": [
       "array(['ACK Flag Count', 'Destination Port', 'ECE Flag Count',\n",
       "       'FIN Flag Count', 'Fwd PSH Flags', 'Label', 'PSH Flag Count',\n",
       "       'RST Flag Count', 'SYN Flag Count', 'URG Flag Count'], dtype=object)"
      ]
     },
     "execution_count": 32,
     "metadata": {},
     "output_type": "execute_result"
    }
   ],
   "source": [
    "no_transform_features=np.setdiff1d(reduced_features,transform_candidates)\n",
    "no_transform_features"
   ]
  },
  {
   "cell_type": "markdown",
   "metadata": {},
   "source": [
    "Since there are both positive and negative values across attributes as well as zero values, a log transform does not work. The standard transformer in this case is the 'Yeo-Johnson' transformation. \n",
    "\n",
    "Read more at: https://scikit-learn.org/stable/modules/preprocessing.html#preprocessing-transformer"
   ]
  },
  {
   "cell_type": "code",
   "execution_count": 33,
   "metadata": {},
   "outputs": [],
   "source": [
    "transformed_df=pandas.DataFrame()\n",
    "\n",
    "for feature in reduced_features:\n",
    "    if feature in transform_candidates:\n",
    "        transformed_df.loc[:,feature]=power_transform(reduced_df.loc[:,feature].values.reshape(-1,1),method='yeo-johnson')\n",
    "    else:\n",
    "        transformed_df.loc[:,feature]=reduced_df.loc[:,feature]"
   ]
  },
  {
   "cell_type": "code",
   "execution_count": 34,
   "metadata": {},
   "outputs": [
    {
     "data": {
      "text/html": [
       "<div>\n",
       "<style scoped>\n",
       "    .dataframe tbody tr th:only-of-type {\n",
       "        vertical-align: middle;\n",
       "    }\n",
       "\n",
       "    .dataframe tbody tr th {\n",
       "        vertical-align: top;\n",
       "    }\n",
       "\n",
       "    .dataframe thead th {\n",
       "        text-align: right;\n",
       "    }\n",
       "</style>\n",
       "<table border=\"1\" class=\"dataframe\">\n",
       "  <thead>\n",
       "    <tr style=\"text-align: right;\">\n",
       "      <th></th>\n",
       "      <th>Destination Port</th>\n",
       "      <th>Flow Duration</th>\n",
       "      <th>Total Fwd Packets</th>\n",
       "      <th>Total Backward Packets</th>\n",
       "      <th>Total Length of Fwd Packets</th>\n",
       "      <th>Total Length of Bwd Packets</th>\n",
       "      <th>Fwd Packet Length Max</th>\n",
       "      <th>Fwd Packet Length Min</th>\n",
       "      <th>Fwd Packet Length Mean</th>\n",
       "      <th>Fwd Packet Length Std</th>\n",
       "      <th>...</th>\n",
       "      <th>act_data_pkt_fwd</th>\n",
       "      <th>min_seg_size_forward</th>\n",
       "      <th>Active Mean</th>\n",
       "      <th>Active Std</th>\n",
       "      <th>Active Max</th>\n",
       "      <th>Active Min</th>\n",
       "      <th>Idle Mean</th>\n",
       "      <th>Idle Std</th>\n",
       "      <th>Idle Max</th>\n",
       "      <th>Idle Min</th>\n",
       "    </tr>\n",
       "  </thead>\n",
       "  <tbody>\n",
       "    <tr>\n",
       "      <td>count</td>\n",
       "      <td>691406.000000</td>\n",
       "      <td>6.914060e+05</td>\n",
       "      <td>6.914060e+05</td>\n",
       "      <td>6.914060e+05</td>\n",
       "      <td>6.914060e+05</td>\n",
       "      <td>6.914060e+05</td>\n",
       "      <td>6.914060e+05</td>\n",
       "      <td>6.914060e+05</td>\n",
       "      <td>6.914060e+05</td>\n",
       "      <td>6.914060e+05</td>\n",
       "      <td>...</td>\n",
       "      <td>6.914060e+05</td>\n",
       "      <td>6.914060e+05</td>\n",
       "      <td>6.914060e+05</td>\n",
       "      <td>6.914060e+05</td>\n",
       "      <td>6.914060e+05</td>\n",
       "      <td>6.914060e+05</td>\n",
       "      <td>6.914060e+05</td>\n",
       "      <td>6.914060e+05</td>\n",
       "      <td>6.914060e+05</td>\n",
       "      <td>6.914060e+05</td>\n",
       "    </tr>\n",
       "    <tr>\n",
       "      <td>mean</td>\n",
       "      <td>5683.120410</td>\n",
       "      <td>4.794734e-16</td>\n",
       "      <td>1.983007e-16</td>\n",
       "      <td>-3.120853e-16</td>\n",
       "      <td>-8.813367e-17</td>\n",
       "      <td>-1.450259e-16</td>\n",
       "      <td>8.543704e-16</td>\n",
       "      <td>-2.052067e-16</td>\n",
       "      <td>6.465328e-16</td>\n",
       "      <td>1.052342e-17</td>\n",
       "      <td>...</td>\n",
       "      <td>-2.499313e-17</td>\n",
       "      <td>3.275251e-15</td>\n",
       "      <td>2.078376e-16</td>\n",
       "      <td>1.479856e-17</td>\n",
       "      <td>-4.580977e-16</td>\n",
       "      <td>2.104685e-16</td>\n",
       "      <td>1.802136e-16</td>\n",
       "      <td>9.832823e-17</td>\n",
       "      <td>3.656889e-16</td>\n",
       "      <td>-2.045490e-16</td>\n",
       "    </tr>\n",
       "    <tr>\n",
       "      <td>std</td>\n",
       "      <td>15722.340146</td>\n",
       "      <td>1.000001e+00</td>\n",
       "      <td>1.000001e+00</td>\n",
       "      <td>1.000001e+00</td>\n",
       "      <td>1.000001e+00</td>\n",
       "      <td>1.000001e+00</td>\n",
       "      <td>1.000001e+00</td>\n",
       "      <td>1.000001e+00</td>\n",
       "      <td>1.000001e+00</td>\n",
       "      <td>1.000001e+00</td>\n",
       "      <td>...</td>\n",
       "      <td>1.000001e+00</td>\n",
       "      <td>1.000001e+00</td>\n",
       "      <td>1.000001e+00</td>\n",
       "      <td>1.000001e+00</td>\n",
       "      <td>1.000001e+00</td>\n",
       "      <td>1.000001e+00</td>\n",
       "      <td>1.000001e+00</td>\n",
       "      <td>1.000001e+00</td>\n",
       "      <td>1.000001e+00</td>\n",
       "      <td>1.000001e+00</td>\n",
       "    </tr>\n",
       "    <tr>\n",
       "      <td>min</td>\n",
       "      <td>0.000000</td>\n",
       "      <td>-1.909622e+00</td>\n",
       "      <td>-1.525682e+00</td>\n",
       "      <td>-1.526514e+00</td>\n",
       "      <td>-1.628975e+00</td>\n",
       "      <td>-1.328361e+00</td>\n",
       "      <td>-1.578769e+00</td>\n",
       "      <td>-8.259742e-01</td>\n",
       "      <td>-1.686634e+00</td>\n",
       "      <td>-8.929728e-01</td>\n",
       "      <td>...</td>\n",
       "      <td>-1.312139e+00</td>\n",
       "      <td>-5.235059e+00</td>\n",
       "      <td>-6.682325e-01</td>\n",
       "      <td>-2.623876e-01</td>\n",
       "      <td>-6.674971e-01</td>\n",
       "      <td>-6.689406e-01</td>\n",
       "      <td>-7.049336e-01</td>\n",
       "      <td>-2.817000e-01</td>\n",
       "      <td>-7.049363e-01</td>\n",
       "      <td>-7.049090e-01</td>\n",
       "    </tr>\n",
       "    <tr>\n",
       "      <td>25%</td>\n",
       "      <td>53.000000</td>\n",
       "      <td>-9.846914e-01</td>\n",
       "      <td>-5.547218e-01</td>\n",
       "      <td>-5.373832e-01</td>\n",
       "      <td>-7.581861e-01</td>\n",
       "      <td>-1.328361e+00</td>\n",
       "      <td>-9.066696e-01</td>\n",
       "      <td>-8.259742e-01</td>\n",
       "      <td>-8.259480e-01</td>\n",
       "      <td>-8.929728e-01</td>\n",
       "      <td>...</td>\n",
       "      <td>-1.312139e+00</td>\n",
       "      <td>-1.068829e+00</td>\n",
       "      <td>-6.682325e-01</td>\n",
       "      <td>-2.623876e-01</td>\n",
       "      <td>-6.674971e-01</td>\n",
       "      <td>-6.689406e-01</td>\n",
       "      <td>-7.049336e-01</td>\n",
       "      <td>-2.817000e-01</td>\n",
       "      <td>-7.049363e-01</td>\n",
       "      <td>-7.049090e-01</td>\n",
       "    </tr>\n",
       "    <tr>\n",
       "      <td>50%</td>\n",
       "      <td>80.000000</td>\n",
       "      <td>-9.318346e-02</td>\n",
       "      <td>-5.547218e-01</td>\n",
       "      <td>-3.518820e-02</td>\n",
       "      <td>-7.480104e-04</td>\n",
       "      <td>9.975822e-03</td>\n",
       "      <td>-1.023874e-01</td>\n",
       "      <td>-8.259742e-01</td>\n",
       "      <td>2.757057e-01</td>\n",
       "      <td>-8.929728e-01</td>\n",
       "      <td>...</td>\n",
       "      <td>5.796008e-02</td>\n",
       "      <td>8.335120e-01</td>\n",
       "      <td>-6.682325e-01</td>\n",
       "      <td>-2.623876e-01</td>\n",
       "      <td>-6.674971e-01</td>\n",
       "      <td>-6.689406e-01</td>\n",
       "      <td>-7.049336e-01</td>\n",
       "      <td>-2.817000e-01</td>\n",
       "      <td>-7.049363e-01</td>\n",
       "      <td>-7.049090e-01</td>\n",
       "    </tr>\n",
       "    <tr>\n",
       "      <td>75%</td>\n",
       "      <td>443.000000</td>\n",
       "      <td>1.207579e+00</td>\n",
       "      <td>9.604115e-01</td>\n",
       "      <td>8.599716e-01</td>\n",
       "      <td>6.967329e-01</td>\n",
       "      <td>1.205817e+00</td>\n",
       "      <td>9.249767e-01</td>\n",
       "      <td>1.286335e+00</td>\n",
       "      <td>5.117634e-01</td>\n",
       "      <td>1.138914e+00</td>\n",
       "      <td>...</td>\n",
       "      <td>6.349606e-01</td>\n",
       "      <td>8.335120e-01</td>\n",
       "      <td>1.405647e+00</td>\n",
       "      <td>-2.623876e-01</td>\n",
       "      <td>1.393732e+00</td>\n",
       "      <td>1.424703e+00</td>\n",
       "      <td>1.381598e+00</td>\n",
       "      <td>-2.817000e-01</td>\n",
       "      <td>1.385160e+00</td>\n",
       "      <td>1.365750e+00</td>\n",
       "    </tr>\n",
       "    <tr>\n",
       "      <td>max</td>\n",
       "      <td>65487.000000</td>\n",
       "      <td>1.279739e+00</td>\n",
       "      <td>2.647183e+00</td>\n",
       "      <td>4.305271e+00</td>\n",
       "      <td>6.520178e+00</td>\n",
       "      <td>5.114445e+00</td>\n",
       "      <td>4.023305e+00</td>\n",
       "      <td>1.825639e+00</td>\n",
       "      <td>5.537890e+00</td>\n",
       "      <td>1.851665e+00</td>\n",
       "      <td>...</td>\n",
       "      <td>2.767409e+00</td>\n",
       "      <td>4.868940e+00</td>\n",
       "      <td>1.736163e+00</td>\n",
       "      <td>3.812521e+00</td>\n",
       "      <td>1.743204e+00</td>\n",
       "      <td>1.731721e+00</td>\n",
       "      <td>1.450165e+00</td>\n",
       "      <td>3.550408e+00</td>\n",
       "      <td>1.449153e+00</td>\n",
       "      <td>1.452538e+00</td>\n",
       "    </tr>\n",
       "  </tbody>\n",
       "</table>\n",
       "<p>8 rows × 67 columns</p>\n",
       "</div>"
      ],
      "text/plain": [
       "       Destination Port  Flow Duration  Total Fwd Packets  \\\n",
       "count     691406.000000   6.914060e+05       6.914060e+05   \n",
       "mean        5683.120410   4.794734e-16       1.983007e-16   \n",
       "std        15722.340146   1.000001e+00       1.000001e+00   \n",
       "min            0.000000  -1.909622e+00      -1.525682e+00   \n",
       "25%           53.000000  -9.846914e-01      -5.547218e-01   \n",
       "50%           80.000000  -9.318346e-02      -5.547218e-01   \n",
       "75%          443.000000   1.207579e+00       9.604115e-01   \n",
       "max        65487.000000   1.279739e+00       2.647183e+00   \n",
       "\n",
       "       Total Backward Packets  Total Length of Fwd Packets  \\\n",
       "count            6.914060e+05                 6.914060e+05   \n",
       "mean            -3.120853e-16                -8.813367e-17   \n",
       "std              1.000001e+00                 1.000001e+00   \n",
       "min             -1.526514e+00                -1.628975e+00   \n",
       "25%             -5.373832e-01                -7.581861e-01   \n",
       "50%             -3.518820e-02                -7.480104e-04   \n",
       "75%              8.599716e-01                 6.967329e-01   \n",
       "max              4.305271e+00                 6.520178e+00   \n",
       "\n",
       "       Total Length of Bwd Packets  Fwd Packet Length Max  \\\n",
       "count                 6.914060e+05           6.914060e+05   \n",
       "mean                 -1.450259e-16           8.543704e-16   \n",
       "std                   1.000001e+00           1.000001e+00   \n",
       "min                  -1.328361e+00          -1.578769e+00   \n",
       "25%                  -1.328361e+00          -9.066696e-01   \n",
       "50%                   9.975822e-03          -1.023874e-01   \n",
       "75%                   1.205817e+00           9.249767e-01   \n",
       "max                   5.114445e+00           4.023305e+00   \n",
       "\n",
       "       Fwd Packet Length Min  Fwd Packet Length Mean  Fwd Packet Length Std  \\\n",
       "count           6.914060e+05            6.914060e+05           6.914060e+05   \n",
       "mean           -2.052067e-16            6.465328e-16           1.052342e-17   \n",
       "std             1.000001e+00            1.000001e+00           1.000001e+00   \n",
       "min            -8.259742e-01           -1.686634e+00          -8.929728e-01   \n",
       "25%            -8.259742e-01           -8.259480e-01          -8.929728e-01   \n",
       "50%            -8.259742e-01            2.757057e-01          -8.929728e-01   \n",
       "75%             1.286335e+00            5.117634e-01           1.138914e+00   \n",
       "max             1.825639e+00            5.537890e+00           1.851665e+00   \n",
       "\n",
       "       ...  act_data_pkt_fwd  min_seg_size_forward   Active Mean  \\\n",
       "count  ...      6.914060e+05          6.914060e+05  6.914060e+05   \n",
       "mean   ...     -2.499313e-17          3.275251e-15  2.078376e-16   \n",
       "std    ...      1.000001e+00          1.000001e+00  1.000001e+00   \n",
       "min    ...     -1.312139e+00         -5.235059e+00 -6.682325e-01   \n",
       "25%    ...     -1.312139e+00         -1.068829e+00 -6.682325e-01   \n",
       "50%    ...      5.796008e-02          8.335120e-01 -6.682325e-01   \n",
       "75%    ...      6.349606e-01          8.335120e-01  1.405647e+00   \n",
       "max    ...      2.767409e+00          4.868940e+00  1.736163e+00   \n",
       "\n",
       "         Active Std    Active Max    Active Min     Idle Mean      Idle Std  \\\n",
       "count  6.914060e+05  6.914060e+05  6.914060e+05  6.914060e+05  6.914060e+05   \n",
       "mean   1.479856e-17 -4.580977e-16  2.104685e-16  1.802136e-16  9.832823e-17   \n",
       "std    1.000001e+00  1.000001e+00  1.000001e+00  1.000001e+00  1.000001e+00   \n",
       "min   -2.623876e-01 -6.674971e-01 -6.689406e-01 -7.049336e-01 -2.817000e-01   \n",
       "25%   -2.623876e-01 -6.674971e-01 -6.689406e-01 -7.049336e-01 -2.817000e-01   \n",
       "50%   -2.623876e-01 -6.674971e-01 -6.689406e-01 -7.049336e-01 -2.817000e-01   \n",
       "75%   -2.623876e-01  1.393732e+00  1.424703e+00  1.381598e+00 -2.817000e-01   \n",
       "max    3.812521e+00  1.743204e+00  1.731721e+00  1.450165e+00  3.550408e+00   \n",
       "\n",
       "           Idle Max      Idle Min  \n",
       "count  6.914060e+05  6.914060e+05  \n",
       "mean   3.656889e-16 -2.045490e-16  \n",
       "std    1.000001e+00  1.000001e+00  \n",
       "min   -7.049363e-01 -7.049090e-01  \n",
       "25%   -7.049363e-01 -7.049090e-01  \n",
       "50%   -7.049363e-01 -7.049090e-01  \n",
       "75%    1.385160e+00  1.365750e+00  \n",
       "max    1.449153e+00  1.452538e+00  \n",
       "\n",
       "[8 rows x 67 columns]"
      ]
     },
     "execution_count": 34,
     "metadata": {},
     "output_type": "execute_result"
    }
   ],
   "source": [
    "transformed_df.describe()"
   ]
  },
  {
   "cell_type": "markdown",
   "metadata": {},
   "source": [
    "We save the histograms of the transformed features once again to confirm that transformations have worked as intended."
   ]
  },
  {
   "cell_type": "code",
   "execution_count": 35,
   "metadata": {},
   "outputs": [],
   "source": [
    "for index, feature in enumerate(reduced_features,1):\n",
    "    fig = plt.figure()\n",
    "    transformed_df[feature].hist()\n",
    "    plt.title(feature+' Distribution')\n",
    "    plt.xlabel('Value')\n",
    "    plt.ylabel('Count')\n",
    "    plt.savefig('./figures/'+day_of_week+'/transformed_features/'+str(index)+'_'+feature+'_Histogram.png')\n",
    "    plt.close(fig)"
   ]
  },
  {
   "cell_type": "markdown",
   "metadata": {},
   "source": [
    "We finally pickle the resulting data frame after processing into the processed data directory."
   ]
  },
  {
   "cell_type": "code",
   "execution_count": 36,
   "metadata": {},
   "outputs": [],
   "source": [
    "transformed_df.to_pickle('../data/processed/'+day_of_week+'_processed.pkl')"
   ]
  }
 ],
 "metadata": {
  "kernelspec": {
   "display_name": "Python [conda env:insight]",
   "language": "python",
   "name": "conda-env-insight-py"
  },
  "language_info": {
   "codemirror_mode": {
    "name": "ipython",
    "version": 3
   },
   "file_extension": ".py",
   "mimetype": "text/x-python",
   "name": "python",
   "nbconvert_exporter": "python",
   "pygments_lexer": "ipython3",
   "version": "3.7.4"
  }
 },
 "nbformat": 4,
 "nbformat_minor": 4
}
