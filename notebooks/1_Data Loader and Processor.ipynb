{
 "cells": [
  {
   "cell_type": "code",
   "execution_count": 1,
   "metadata": {},
   "outputs": [],
   "source": [
    "import numpy as np\n",
    "import pandas\n",
    "import os\n",
    "import matplotlib.pyplot as plt\n",
    "import seaborn as sns\n",
    "from sklearn.preprocessing import power_transform\n",
    "\n",
    "%matplotlib inline\n",
    "plt.rcParams['figure.figsize'] = [10, 8]"
   ]
  },
  {
   "cell_type": "markdown",
   "metadata": {},
   "source": [
    "### Define data directory and file name to load"
   ]
  },
  {
   "cell_type": "code",
   "execution_count": 2,
   "metadata": {},
   "outputs": [],
   "source": [
    "day_of_week = 'Tuesday'\n",
    "\n",
    "data_directory='../data/raw'\n",
    "file_name=day_of_week+'-WorkingHours.pcap_ISCX.csv'\n",
    "\n",
    "data_file=os.path.join(data_directory,file_name)"
   ]
  },
  {
   "cell_type": "markdown",
   "metadata": {},
   "source": [
    "Tried the package loader from github clean code"
   ]
  },
  {
   "cell_type": "code",
   "execution_count": 3,
   "metadata": {},
   "outputs": [],
   "source": [
    "# from anomalyzer.config import data_file"
   ]
  },
  {
   "cell_type": "markdown",
   "metadata": {},
   "source": [
    "### Load the data frame"
   ]
  },
  {
   "cell_type": "code",
   "execution_count": 6,
   "metadata": {
    "scrolled": false
   },
   "outputs": [
    {
     "name": "stdout",
     "output_type": "stream",
     "text": [
      "<class 'pandas.core.frame.DataFrame'>\n",
      "RangeIndex: 445909 entries, 0 to 445908\n",
      "Data columns (total 79 columns):\n",
      "Destination Port               445909 non-null int64\n",
      "Flow Duration                  445909 non-null int64\n",
      "Total Fwd Packets              445909 non-null int64\n",
      "Total Backward Packets         445909 non-null int64\n",
      "Total Length of Fwd Packets    445909 non-null int64\n",
      "Total Length of Bwd Packets    445909 non-null int64\n",
      "Fwd Packet Length Max          445909 non-null int64\n",
      "Fwd Packet Length Min          445909 non-null int64\n",
      "Fwd Packet Length Mean         445909 non-null float64\n",
      "Fwd Packet Length Std          445909 non-null float64\n",
      "Bwd Packet Length Max          445909 non-null int64\n",
      "Bwd Packet Length Min          445909 non-null int64\n",
      "Bwd Packet Length Mean         445909 non-null float64\n",
      "Bwd Packet Length Std          445909 non-null float64\n",
      "Flow Bytes/s                   445708 non-null object\n",
      "Flow Packets/s                 445909 non-null object\n",
      "Flow IAT Mean                  445909 non-null float64\n",
      "Flow IAT Std                   445909 non-null float64\n",
      "Flow IAT Max                   445909 non-null int64\n",
      "Flow IAT Min                   445909 non-null int64\n",
      "Fwd IAT Total                  445909 non-null int64\n",
      "Fwd IAT Mean                   445909 non-null float64\n",
      "Fwd IAT Std                    445909 non-null float64\n",
      "Fwd IAT Max                    445909 non-null int64\n",
      "Fwd IAT Min                    445909 non-null int64\n",
      "Bwd IAT Total                  445909 non-null int64\n",
      "Bwd IAT Mean                   445909 non-null float64\n",
      "Bwd IAT Std                    445909 non-null float64\n",
      "Bwd IAT Max                    445909 non-null int64\n",
      "Bwd IAT Min                    445909 non-null int64\n",
      "Fwd PSH Flags                  445909 non-null int64\n",
      "Bwd PSH Flags                  445909 non-null int64\n",
      "Fwd URG Flags                  445909 non-null int64\n",
      "Bwd URG Flags                  445909 non-null int64\n",
      "Fwd Header Length              445909 non-null int64\n",
      "Bwd Header Length              445909 non-null int64\n",
      "Fwd Packets/s                  445909 non-null float64\n",
      "Bwd Packets/s                  445909 non-null float64\n",
      "Min Packet Length              445909 non-null int64\n",
      "Max Packet Length              445909 non-null int64\n",
      "Packet Length Mean             445909 non-null float64\n",
      "Packet Length Std              445909 non-null float64\n",
      "Packet Length Variance         445909 non-null float64\n",
      "FIN Flag Count                 445909 non-null int64\n",
      "SYN Flag Count                 445909 non-null int64\n",
      "RST Flag Count                 445909 non-null int64\n",
      "PSH Flag Count                 445909 non-null int64\n",
      "ACK Flag Count                 445909 non-null int64\n",
      "URG Flag Count                 445909 non-null int64\n",
      "CWE Flag Count                 445909 non-null int64\n",
      "ECE Flag Count                 445909 non-null int64\n",
      "Down/Up Ratio                  445909 non-null int64\n",
      "Average Packet Size            445909 non-null float64\n",
      "Avg Fwd Segment Size           445909 non-null float64\n",
      "Avg Bwd Segment Size           445909 non-null float64\n",
      "Fwd Header Length.1            445909 non-null int64\n",
      "Fwd Avg Bytes/Bulk             445909 non-null int64\n",
      "Fwd Avg Packets/Bulk           445909 non-null int64\n",
      "Fwd Avg Bulk Rate              445909 non-null int64\n",
      "Bwd Avg Bytes/Bulk             445909 non-null int64\n",
      "Bwd Avg Packets/Bulk           445909 non-null int64\n",
      "Bwd Avg Bulk Rate              445909 non-null int64\n",
      "Subflow Fwd Packets            445909 non-null int64\n",
      "Subflow Fwd Bytes              445909 non-null int64\n",
      "Subflow Bwd Packets            445909 non-null int64\n",
      "Subflow Bwd Bytes              445909 non-null int64\n",
      "Init_Win_bytes_forward         445909 non-null int64\n",
      "Init_Win_bytes_backward        445909 non-null int64\n",
      "act_data_pkt_fwd               445909 non-null int64\n",
      "min_seg_size_forward           445909 non-null int64\n",
      "Active Mean                    445909 non-null float64\n",
      "Active Std                     445909 non-null float64\n",
      "Active Max                     445909 non-null int64\n",
      "Active Min                     445909 non-null int64\n",
      "Idle Mean                      445909 non-null float64\n",
      "Idle Std                       445909 non-null float64\n",
      "Idle Max                       445909 non-null int64\n",
      "Idle Min                       445909 non-null int64\n",
      "Label                          445909 non-null object\n",
      "dtypes: float64(22), int64(54), object(3)\n",
      "memory usage: 268.8+ MB\n"
     ]
    }
   ],
   "source": [
    "df=pandas.read_csv(data_file,skipinitialspace=True,low_memory=False)\n",
    "df.info()"
   ]
  },
  {
   "cell_type": "markdown",
   "metadata": {},
   "source": [
    "Some of the features have the character '/' in them, which might be problematic. Therefore, such features are renamed to be on the safe side."
   ]
  },
  {
   "cell_type": "code",
   "execution_count": 25,
   "metadata": {},
   "outputs": [],
   "source": [
    "df.rename(columns={'Flow Bytes/s':'Flow Bytes per sec',\n",
    "                   'Flow Packets/s':'Flow Packets per sec',\n",
    "                   'Fwd Packets/s':'Fwd Packets per sec',\n",
    "                   'Bwd Packets/s':'Bwd Packets per sec',\n",
    "                   'Fwd Avg Bytes/Bulk':'Fwd Avg Bytes per Bulk',\n",
    "                   'Fwd Avg Packets/Bulk':'Fwd Avg Packets per Bulk',\n",
    "                   'Bwd Avg Bytes/Bulk':'Bwd Avg Bytes per Bulk',\n",
    "                   'Bwd Avg Packets/Bulk':'Bwd Avg Packets per Bulk',\n",
    "                   'Down/Up Ratio':'Down Up Ratio'\n",
    "                  },inplace=True)"
   ]
  },
  {
   "cell_type": "markdown",
   "metadata": {},
   "source": [
    "We also quickly check the distibution of attacks in the data set."
   ]
  },
  {
   "cell_type": "code",
   "execution_count": 26,
   "metadata": {},
   "outputs": [
    {
     "data": {
      "text/plain": [
       "BENIGN         0.968973\n",
       "FTP-Patator    0.017802\n",
       "SSH-Patator    0.013225\n",
       "Name: Label, dtype: float64"
      ]
     },
     "execution_count": 26,
     "metadata": {},
     "output_type": "execute_result"
    }
   ],
   "source": [
    "df['Label'].value_counts(normalize=True)"
   ]
  },
  {
   "cell_type": "markdown",
   "metadata": {},
   "source": [
    "It looks like 96.90% of the row in our dataset are BENIGN communications and the remaining 3.10% are attacks on the network."
   ]
  },
  {
   "cell_type": "markdown",
   "metadata": {},
   "source": [
    "## Data Cleaning"
   ]
  },
  {
   "cell_type": "markdown",
   "metadata": {},
   "source": [
    "### Remove NaN values from the data frame"
   ]
  },
  {
   "cell_type": "code",
   "execution_count": 27,
   "metadata": {
    "scrolled": true
   },
   "outputs": [
    {
     "data": {
      "text/plain": [
       "int64      54\n",
       "float64    22\n",
       "object      3\n",
       "dtype: int64"
      ]
     },
     "execution_count": 27,
     "metadata": {},
     "output_type": "execute_result"
    }
   ],
   "source": [
    "clean_df=df.dropna()\n",
    "clean_df.dtypes.value_counts()"
   ]
  },
  {
   "cell_type": "code",
   "execution_count": 28,
   "metadata": {},
   "outputs": [
    {
     "data": {
      "text/html": [
       "<div>\n",
       "<style scoped>\n",
       "    .dataframe tbody tr th:only-of-type {\n",
       "        vertical-align: middle;\n",
       "    }\n",
       "\n",
       "    .dataframe tbody tr th {\n",
       "        vertical-align: top;\n",
       "    }\n",
       "\n",
       "    .dataframe thead th {\n",
       "        text-align: right;\n",
       "    }\n",
       "</style>\n",
       "<table border=\"1\" class=\"dataframe\">\n",
       "  <thead>\n",
       "    <tr style=\"text-align: right;\">\n",
       "      <th></th>\n",
       "      <th>Destination Port</th>\n",
       "      <th>Flow Duration</th>\n",
       "      <th>Total Fwd Packets</th>\n",
       "      <th>Total Backward Packets</th>\n",
       "      <th>Total Length of Fwd Packets</th>\n",
       "      <th>Total Length of Bwd Packets</th>\n",
       "      <th>Fwd Packet Length Max</th>\n",
       "      <th>Fwd Packet Length Min</th>\n",
       "      <th>Fwd Packet Length Mean</th>\n",
       "      <th>Fwd Packet Length Std</th>\n",
       "      <th>...</th>\n",
       "      <th>min_seg_size_forward</th>\n",
       "      <th>Active Mean</th>\n",
       "      <th>Active Std</th>\n",
       "      <th>Active Max</th>\n",
       "      <th>Active Min</th>\n",
       "      <th>Idle Mean</th>\n",
       "      <th>Idle Std</th>\n",
       "      <th>Idle Max</th>\n",
       "      <th>Idle Min</th>\n",
       "      <th>Label</th>\n",
       "    </tr>\n",
       "  </thead>\n",
       "  <tbody>\n",
       "    <tr>\n",
       "      <td>0</td>\n",
       "      <td>88</td>\n",
       "      <td>640</td>\n",
       "      <td>7</td>\n",
       "      <td>4</td>\n",
       "      <td>440</td>\n",
       "      <td>358</td>\n",
       "      <td>220</td>\n",
       "      <td>0</td>\n",
       "      <td>62.857143</td>\n",
       "      <td>107.349008</td>\n",
       "      <td>...</td>\n",
       "      <td>20</td>\n",
       "      <td>0.0</td>\n",
       "      <td>0.0</td>\n",
       "      <td>0</td>\n",
       "      <td>0</td>\n",
       "      <td>0.0</td>\n",
       "      <td>0.0</td>\n",
       "      <td>0</td>\n",
       "      <td>0</td>\n",
       "      <td>BENIGN</td>\n",
       "    </tr>\n",
       "    <tr>\n",
       "      <td>1</td>\n",
       "      <td>88</td>\n",
       "      <td>900</td>\n",
       "      <td>9</td>\n",
       "      <td>4</td>\n",
       "      <td>600</td>\n",
       "      <td>2944</td>\n",
       "      <td>300</td>\n",
       "      <td>0</td>\n",
       "      <td>66.666667</td>\n",
       "      <td>132.287566</td>\n",
       "      <td>...</td>\n",
       "      <td>20</td>\n",
       "      <td>0.0</td>\n",
       "      <td>0.0</td>\n",
       "      <td>0</td>\n",
       "      <td>0</td>\n",
       "      <td>0.0</td>\n",
       "      <td>0.0</td>\n",
       "      <td>0</td>\n",
       "      <td>0</td>\n",
       "      <td>BENIGN</td>\n",
       "    </tr>\n",
       "    <tr>\n",
       "      <td>2</td>\n",
       "      <td>88</td>\n",
       "      <td>1205</td>\n",
       "      <td>7</td>\n",
       "      <td>4</td>\n",
       "      <td>2776</td>\n",
       "      <td>2830</td>\n",
       "      <td>1388</td>\n",
       "      <td>0</td>\n",
       "      <td>396.571429</td>\n",
       "      <td>677.274651</td>\n",
       "      <td>...</td>\n",
       "      <td>20</td>\n",
       "      <td>0.0</td>\n",
       "      <td>0.0</td>\n",
       "      <td>0</td>\n",
       "      <td>0</td>\n",
       "      <td>0.0</td>\n",
       "      <td>0.0</td>\n",
       "      <td>0</td>\n",
       "      <td>0</td>\n",
       "      <td>BENIGN</td>\n",
       "    </tr>\n",
       "    <tr>\n",
       "      <td>3</td>\n",
       "      <td>88</td>\n",
       "      <td>511</td>\n",
       "      <td>7</td>\n",
       "      <td>4</td>\n",
       "      <td>452</td>\n",
       "      <td>370</td>\n",
       "      <td>226</td>\n",
       "      <td>0</td>\n",
       "      <td>64.571429</td>\n",
       "      <td>110.276708</td>\n",
       "      <td>...</td>\n",
       "      <td>20</td>\n",
       "      <td>0.0</td>\n",
       "      <td>0.0</td>\n",
       "      <td>0</td>\n",
       "      <td>0</td>\n",
       "      <td>0.0</td>\n",
       "      <td>0.0</td>\n",
       "      <td>0</td>\n",
       "      <td>0</td>\n",
       "      <td>BENIGN</td>\n",
       "    </tr>\n",
       "    <tr>\n",
       "      <td>4</td>\n",
       "      <td>88</td>\n",
       "      <td>773</td>\n",
       "      <td>9</td>\n",
       "      <td>4</td>\n",
       "      <td>612</td>\n",
       "      <td>2944</td>\n",
       "      <td>306</td>\n",
       "      <td>0</td>\n",
       "      <td>68.000000</td>\n",
       "      <td>134.933317</td>\n",
       "      <td>...</td>\n",
       "      <td>20</td>\n",
       "      <td>0.0</td>\n",
       "      <td>0.0</td>\n",
       "      <td>0</td>\n",
       "      <td>0</td>\n",
       "      <td>0.0</td>\n",
       "      <td>0.0</td>\n",
       "      <td>0</td>\n",
       "      <td>0</td>\n",
       "      <td>BENIGN</td>\n",
       "    </tr>\n",
       "  </tbody>\n",
       "</table>\n",
       "<p>5 rows × 79 columns</p>\n",
       "</div>"
      ],
      "text/plain": [
       "   Destination Port  Flow Duration  Total Fwd Packets  Total Backward Packets  \\\n",
       "0                88            640                  7                       4   \n",
       "1                88            900                  9                       4   \n",
       "2                88           1205                  7                       4   \n",
       "3                88            511                  7                       4   \n",
       "4                88            773                  9                       4   \n",
       "\n",
       "   Total Length of Fwd Packets  Total Length of Bwd Packets  \\\n",
       "0                          440                          358   \n",
       "1                          600                         2944   \n",
       "2                         2776                         2830   \n",
       "3                          452                          370   \n",
       "4                          612                         2944   \n",
       "\n",
       "   Fwd Packet Length Max  Fwd Packet Length Min  Fwd Packet Length Mean  \\\n",
       "0                    220                      0               62.857143   \n",
       "1                    300                      0               66.666667   \n",
       "2                   1388                      0              396.571429   \n",
       "3                    226                      0               64.571429   \n",
       "4                    306                      0               68.000000   \n",
       "\n",
       "   Fwd Packet Length Std  ...  min_seg_size_forward  Active Mean  Active Std  \\\n",
       "0             107.349008  ...                    20          0.0         0.0   \n",
       "1             132.287566  ...                    20          0.0         0.0   \n",
       "2             677.274651  ...                    20          0.0         0.0   \n",
       "3             110.276708  ...                    20          0.0         0.0   \n",
       "4             134.933317  ...                    20          0.0         0.0   \n",
       "\n",
       "   Active Max Active Min Idle Mean  Idle Std  Idle Max  Idle Min   Label  \n",
       "0           0          0       0.0       0.0         0         0  BENIGN  \n",
       "1           0          0       0.0       0.0         0         0  BENIGN  \n",
       "2           0          0       0.0       0.0         0         0  BENIGN  \n",
       "3           0          0       0.0       0.0         0         0  BENIGN  \n",
       "4           0          0       0.0       0.0         0         0  BENIGN  \n",
       "\n",
       "[5 rows x 79 columns]"
      ]
     },
     "execution_count": 28,
     "metadata": {},
     "output_type": "execute_result"
    }
   ],
   "source": [
    "clean_df.head()"
   ]
  },
  {
   "cell_type": "code",
   "execution_count": 29,
   "metadata": {
    "scrolled": true
   },
   "outputs": [
    {
     "name": "stdout",
     "output_type": "stream",
     "text": [
      "<class 'pandas.core.frame.DataFrame'>\n",
      "Int64Index: 445708 entries, 0 to 445908\n",
      "Data columns (total 79 columns):\n",
      "Destination Port               445708 non-null int64\n",
      "Flow Duration                  445708 non-null int64\n",
      "Total Fwd Packets              445708 non-null int64\n",
      "Total Backward Packets         445708 non-null int64\n",
      "Total Length of Fwd Packets    445708 non-null int64\n",
      "Total Length of Bwd Packets    445708 non-null int64\n",
      "Fwd Packet Length Max          445708 non-null int64\n",
      "Fwd Packet Length Min          445708 non-null int64\n",
      "Fwd Packet Length Mean         445708 non-null float64\n",
      "Fwd Packet Length Std          445708 non-null float64\n",
      "Bwd Packet Length Max          445708 non-null int64\n",
      "Bwd Packet Length Min          445708 non-null int64\n",
      "Bwd Packet Length Mean         445708 non-null float64\n",
      "Bwd Packet Length Std          445708 non-null float64\n",
      "Flow Bytes per sec             445708 non-null object\n",
      "Flow Packets per sec           445708 non-null object\n",
      "Flow IAT Mean                  445708 non-null float64\n",
      "Flow IAT Std                   445708 non-null float64\n",
      "Flow IAT Max                   445708 non-null int64\n",
      "Flow IAT Min                   445708 non-null int64\n",
      "Fwd IAT Total                  445708 non-null int64\n",
      "Fwd IAT Mean                   445708 non-null float64\n",
      "Fwd IAT Std                    445708 non-null float64\n",
      "Fwd IAT Max                    445708 non-null int64\n",
      "Fwd IAT Min                    445708 non-null int64\n",
      "Bwd IAT Total                  445708 non-null int64\n",
      "Bwd IAT Mean                   445708 non-null float64\n",
      "Bwd IAT Std                    445708 non-null float64\n",
      "Bwd IAT Max                    445708 non-null int64\n",
      "Bwd IAT Min                    445708 non-null int64\n",
      "Fwd PSH Flags                  445708 non-null int64\n",
      "Bwd PSH Flags                  445708 non-null int64\n",
      "Fwd URG Flags                  445708 non-null int64\n",
      "Bwd URG Flags                  445708 non-null int64\n",
      "Fwd Header Length              445708 non-null int64\n",
      "Bwd Header Length              445708 non-null int64\n",
      "Fwd Packets per sec            445708 non-null float64\n",
      "Bwd Packets per sec            445708 non-null float64\n",
      "Min Packet Length              445708 non-null int64\n",
      "Max Packet Length              445708 non-null int64\n",
      "Packet Length Mean             445708 non-null float64\n",
      "Packet Length Std              445708 non-null float64\n",
      "Packet Length Variance         445708 non-null float64\n",
      "FIN Flag Count                 445708 non-null int64\n",
      "SYN Flag Count                 445708 non-null int64\n",
      "RST Flag Count                 445708 non-null int64\n",
      "PSH Flag Count                 445708 non-null int64\n",
      "ACK Flag Count                 445708 non-null int64\n",
      "URG Flag Count                 445708 non-null int64\n",
      "CWE Flag Count                 445708 non-null int64\n",
      "ECE Flag Count                 445708 non-null int64\n",
      "Down Up Ratio                  445708 non-null int64\n",
      "Average Packet Size            445708 non-null float64\n",
      "Avg Fwd Segment Size           445708 non-null float64\n",
      "Avg Bwd Segment Size           445708 non-null float64\n",
      "Fwd Header Length.1            445708 non-null int64\n",
      "Fwd Avg Bytes per Bulk         445708 non-null int64\n",
      "Fwd Avg Packets per Bulk       445708 non-null int64\n",
      "Fwd Avg Bulk Rate              445708 non-null int64\n",
      "Bwd Avg Bytes per Bulk         445708 non-null int64\n",
      "Bwd Avg Packets per Bulk       445708 non-null int64\n",
      "Bwd Avg Bulk Rate              445708 non-null int64\n",
      "Subflow Fwd Packets            445708 non-null int64\n",
      "Subflow Fwd Bytes              445708 non-null int64\n",
      "Subflow Bwd Packets            445708 non-null int64\n",
      "Subflow Bwd Bytes              445708 non-null int64\n",
      "Init_Win_bytes_forward         445708 non-null int64\n",
      "Init_Win_bytes_backward        445708 non-null int64\n",
      "act_data_pkt_fwd               445708 non-null int64\n",
      "min_seg_size_forward           445708 non-null int64\n",
      "Active Mean                    445708 non-null float64\n",
      "Active Std                     445708 non-null float64\n",
      "Active Max                     445708 non-null int64\n",
      "Active Min                     445708 non-null int64\n",
      "Idle Mean                      445708 non-null float64\n",
      "Idle Std                       445708 non-null float64\n",
      "Idle Max                       445708 non-null int64\n",
      "Idle Min                       445708 non-null int64\n",
      "Label                          445708 non-null object\n",
      "dtypes: float64(22), int64(54), object(3)\n",
      "memory usage: 272.0+ MB\n"
     ]
    }
   ],
   "source": [
    "clean_df.info()"
   ]
  },
  {
   "cell_type": "markdown",
   "metadata": {},
   "source": [
    "There are still two 'object' type features in the dataset: Flow Bytes per sec and Flow Packets per sec"
   ]
  },
  {
   "cell_type": "markdown",
   "metadata": {},
   "source": [
    "### We now need to remove 'Infinity' values typed as string from the data."
   ]
  },
  {
   "cell_type": "code",
   "execution_count": 30,
   "metadata": {},
   "outputs": [
    {
     "name": "stdout",
     "output_type": "stream",
     "text": [
      "Int64Index([   167,    172,   2439,   4058,  15297,  22891,  28757,  33942,\n",
      "             35342,  38478,  41582,  44806,  45262,  48751,  61676,  63183,\n",
      "             67315,  88127,  93289,  93595,  93975, 111843, 118883, 120246,\n",
      "            121444, 121536, 129524, 136265, 137752, 137844, 138921, 147048,\n",
      "            150093, 153792, 154300, 154805, 157396, 159859, 169208, 196971,\n",
      "            198370, 200593, 206184, 210835, 212289, 215264, 215271, 216393,\n",
      "            216570, 216749, 216776, 216805, 218521, 222605, 225099, 227162,\n",
      "            247620, 253996, 257193, 258160, 268813, 276059, 276562],\n",
      "           dtype='int64')\n"
     ]
    }
   ],
   "source": [
    "index_to_drop=clean_df.index[(clean_df['Flow Packets per sec']=='Infinity')|(clean_df['Flow Bytes per sec']=='Infinity')]\n",
    "print(index_to_drop)"
   ]
  },
  {
   "cell_type": "code",
   "execution_count": 31,
   "metadata": {},
   "outputs": [],
   "source": [
    "final_df=clean_df.drop(index_to_drop)"
   ]
  },
  {
   "cell_type": "code",
   "execution_count": 32,
   "metadata": {},
   "outputs": [],
   "source": [
    "final_df['Flow Bytes per sec']=final_df['Flow Bytes per sec'].astype('float')\n",
    "final_df['Flow Packets per sec']=final_df['Flow Packets per sec'].astype('float')"
   ]
  },
  {
   "cell_type": "code",
   "execution_count": 33,
   "metadata": {
    "scrolled": true
   },
   "outputs": [
    {
     "name": "stdout",
     "output_type": "stream",
     "text": [
      "<class 'pandas.core.frame.DataFrame'>\n",
      "Int64Index: 445645 entries, 0 to 445908\n",
      "Data columns (total 79 columns):\n",
      "Destination Port               445645 non-null int64\n",
      "Flow Duration                  445645 non-null int64\n",
      "Total Fwd Packets              445645 non-null int64\n",
      "Total Backward Packets         445645 non-null int64\n",
      "Total Length of Fwd Packets    445645 non-null int64\n",
      "Total Length of Bwd Packets    445645 non-null int64\n",
      "Fwd Packet Length Max          445645 non-null int64\n",
      "Fwd Packet Length Min          445645 non-null int64\n",
      "Fwd Packet Length Mean         445645 non-null float64\n",
      "Fwd Packet Length Std          445645 non-null float64\n",
      "Bwd Packet Length Max          445645 non-null int64\n",
      "Bwd Packet Length Min          445645 non-null int64\n",
      "Bwd Packet Length Mean         445645 non-null float64\n",
      "Bwd Packet Length Std          445645 non-null float64\n",
      "Flow Bytes per sec             445645 non-null float64\n",
      "Flow Packets per sec           445645 non-null float64\n",
      "Flow IAT Mean                  445645 non-null float64\n",
      "Flow IAT Std                   445645 non-null float64\n",
      "Flow IAT Max                   445645 non-null int64\n",
      "Flow IAT Min                   445645 non-null int64\n",
      "Fwd IAT Total                  445645 non-null int64\n",
      "Fwd IAT Mean                   445645 non-null float64\n",
      "Fwd IAT Std                    445645 non-null float64\n",
      "Fwd IAT Max                    445645 non-null int64\n",
      "Fwd IAT Min                    445645 non-null int64\n",
      "Bwd IAT Total                  445645 non-null int64\n",
      "Bwd IAT Mean                   445645 non-null float64\n",
      "Bwd IAT Std                    445645 non-null float64\n",
      "Bwd IAT Max                    445645 non-null int64\n",
      "Bwd IAT Min                    445645 non-null int64\n",
      "Fwd PSH Flags                  445645 non-null int64\n",
      "Bwd PSH Flags                  445645 non-null int64\n",
      "Fwd URG Flags                  445645 non-null int64\n",
      "Bwd URG Flags                  445645 non-null int64\n",
      "Fwd Header Length              445645 non-null int64\n",
      "Bwd Header Length              445645 non-null int64\n",
      "Fwd Packets per sec            445645 non-null float64\n",
      "Bwd Packets per sec            445645 non-null float64\n",
      "Min Packet Length              445645 non-null int64\n",
      "Max Packet Length              445645 non-null int64\n",
      "Packet Length Mean             445645 non-null float64\n",
      "Packet Length Std              445645 non-null float64\n",
      "Packet Length Variance         445645 non-null float64\n",
      "FIN Flag Count                 445645 non-null int64\n",
      "SYN Flag Count                 445645 non-null int64\n",
      "RST Flag Count                 445645 non-null int64\n",
      "PSH Flag Count                 445645 non-null int64\n",
      "ACK Flag Count                 445645 non-null int64\n",
      "URG Flag Count                 445645 non-null int64\n",
      "CWE Flag Count                 445645 non-null int64\n",
      "ECE Flag Count                 445645 non-null int64\n",
      "Down Up Ratio                  445645 non-null int64\n",
      "Average Packet Size            445645 non-null float64\n",
      "Avg Fwd Segment Size           445645 non-null float64\n",
      "Avg Bwd Segment Size           445645 non-null float64\n",
      "Fwd Header Length.1            445645 non-null int64\n",
      "Fwd Avg Bytes per Bulk         445645 non-null int64\n",
      "Fwd Avg Packets per Bulk       445645 non-null int64\n",
      "Fwd Avg Bulk Rate              445645 non-null int64\n",
      "Bwd Avg Bytes per Bulk         445645 non-null int64\n",
      "Bwd Avg Packets per Bulk       445645 non-null int64\n",
      "Bwd Avg Bulk Rate              445645 non-null int64\n",
      "Subflow Fwd Packets            445645 non-null int64\n",
      "Subflow Fwd Bytes              445645 non-null int64\n",
      "Subflow Bwd Packets            445645 non-null int64\n",
      "Subflow Bwd Bytes              445645 non-null int64\n",
      "Init_Win_bytes_forward         445645 non-null int64\n",
      "Init_Win_bytes_backward        445645 non-null int64\n",
      "act_data_pkt_fwd               445645 non-null int64\n",
      "min_seg_size_forward           445645 non-null int64\n",
      "Active Mean                    445645 non-null float64\n",
      "Active Std                     445645 non-null float64\n",
      "Active Max                     445645 non-null int64\n",
      "Active Min                     445645 non-null int64\n",
      "Idle Mean                      445645 non-null float64\n",
      "Idle Std                       445645 non-null float64\n",
      "Idle Max                       445645 non-null int64\n",
      "Idle Min                       445645 non-null int64\n",
      "Label                          445645 non-null object\n",
      "dtypes: float64(24), int64(54), object(1)\n",
      "memory usage: 272.0+ MB\n"
     ]
    }
   ],
   "source": [
    "final_df.info()"
   ]
  },
  {
   "cell_type": "markdown",
   "metadata": {},
   "source": [
    "Finally, we notice there are two columns called **Fwd Header Length** and **Fwd Header Length.1**. We check if they are identical and drop one of them if true."
   ]
  },
  {
   "cell_type": "code",
   "execution_count": 34,
   "metadata": {},
   "outputs": [],
   "source": [
    "if sum(final_df['Fwd Header Length']-final_df['Fwd Header Length.1'])==0:\n",
    "    final_df.drop(['Fwd Header Length.1'],axis=1,inplace=True)"
   ]
  },
  {
   "cell_type": "markdown",
   "metadata": {},
   "source": [
    "Now that our data frame is clean, we can pickle it into the cleaned data directory."
   ]
  },
  {
   "cell_type": "code",
   "execution_count": 15,
   "metadata": {},
   "outputs": [],
   "source": [
    "final_df.to_pickle('../data/cleaned/'+day_of_week+'_clean.pkl')"
   ]
  },
  {
   "cell_type": "markdown",
   "metadata": {},
   "source": [
    "## Data Processing"
   ]
  },
  {
   "cell_type": "markdown",
   "metadata": {},
   "source": [
    "Let's start by plotting histograms of the features we have in our dataset. All files are saved into the ./figures directory for later referencing."
   ]
  },
  {
   "cell_type": "code",
   "execution_count": 35,
   "metadata": {},
   "outputs": [],
   "source": [
    "features=final_df.columns.values"
   ]
  },
  {
   "cell_type": "code",
   "execution_count": 17,
   "metadata": {
    "scrolled": true
   },
   "outputs": [],
   "source": [
    "for index, feature in enumerate(features,1):\n",
    "    fig = plt.figure()\n",
    "    final_df[feature].hist()\n",
    "    plt.title(feature+' Distribution')\n",
    "    plt.xlabel('Value')\n",
    "    plt.ylabel('Count')\n",
    "    plt.savefig('./figures/'+day_of_week+'/original_features/'+str(index)+'_'+feature+'_Histogram.png')\n",
    "    plt.close(fig)"
   ]
  },
  {
   "cell_type": "markdown",
   "metadata": {},
   "source": [
    "A cursory look at the histograms show us two things:\n",
    "\n",
    "1. Some of the values seem to have a single spike indicating we need to look for features with a single value. Since these features carry no information, we should identify and remove them from the data frame.\n",
    "\n",
    "2. The range of values for most of the attributes is quite large, resulting in largely skewed distributions. A log transform should be applied."
   ]
  },
  {
   "cell_type": "markdown",
   "metadata": {},
   "source": [
    "### 1.  Find the columns that have a single value and drop them from the dataframe"
   ]
  },
  {
   "cell_type": "code",
   "execution_count": 36,
   "metadata": {},
   "outputs": [
    {
     "data": {
      "text/plain": [
       "['Bwd PSH Flags',\n",
       " 'Fwd URG Flags',\n",
       " 'Bwd URG Flags',\n",
       " 'CWE Flag Count',\n",
       " 'Fwd Avg Bytes per Bulk',\n",
       " 'Fwd Avg Packets per Bulk',\n",
       " 'Fwd Avg Bulk Rate',\n",
       " 'Bwd Avg Bytes per Bulk',\n",
       " 'Bwd Avg Packets per Bulk',\n",
       " 'Bwd Avg Bulk Rate']"
      ]
     },
     "execution_count": 36,
     "metadata": {},
     "output_type": "execute_result"
    }
   ],
   "source": [
    "columns_to_drop=[]\n",
    "for feature in features:\n",
    "    if final_df[feature].unique().size==1:\n",
    "        columns_to_drop.append(feature)\n",
    "columns_to_drop"
   ]
  },
  {
   "cell_type": "code",
   "execution_count": 37,
   "metadata": {},
   "outputs": [],
   "source": [
    "reduced_df=final_df.drop(columns_to_drop,axis=1)"
   ]
  },
  {
   "cell_type": "code",
   "execution_count": 38,
   "metadata": {},
   "outputs": [
    {
     "data": {
      "text/plain": [
       "array(['Destination Port', 'Flow Duration', 'Total Fwd Packets',\n",
       "       'Total Backward Packets', 'Total Length of Fwd Packets',\n",
       "       'Total Length of Bwd Packets', 'Fwd Packet Length Max',\n",
       "       'Fwd Packet Length Min', 'Fwd Packet Length Mean',\n",
       "       'Fwd Packet Length Std', 'Bwd Packet Length Max',\n",
       "       'Bwd Packet Length Min', 'Bwd Packet Length Mean',\n",
       "       'Bwd Packet Length Std', 'Flow Bytes per sec',\n",
       "       'Flow Packets per sec', 'Flow IAT Mean', 'Flow IAT Std',\n",
       "       'Flow IAT Max', 'Flow IAT Min', 'Fwd IAT Total', 'Fwd IAT Mean',\n",
       "       'Fwd IAT Std', 'Fwd IAT Max', 'Fwd IAT Min', 'Bwd IAT Total',\n",
       "       'Bwd IAT Mean', 'Bwd IAT Std', 'Bwd IAT Max', 'Bwd IAT Min',\n",
       "       'Fwd PSH Flags', 'Fwd Header Length', 'Bwd Header Length',\n",
       "       'Fwd Packets per sec', 'Bwd Packets per sec', 'Min Packet Length',\n",
       "       'Max Packet Length', 'Packet Length Mean', 'Packet Length Std',\n",
       "       'Packet Length Variance', 'FIN Flag Count', 'SYN Flag Count',\n",
       "       'RST Flag Count', 'PSH Flag Count', 'ACK Flag Count',\n",
       "       'URG Flag Count', 'ECE Flag Count', 'Down Up Ratio',\n",
       "       'Average Packet Size', 'Avg Fwd Segment Size',\n",
       "       'Avg Bwd Segment Size', 'Subflow Fwd Packets', 'Subflow Fwd Bytes',\n",
       "       'Subflow Bwd Packets', 'Subflow Bwd Bytes',\n",
       "       'Init_Win_bytes_forward', 'Init_Win_bytes_backward',\n",
       "       'act_data_pkt_fwd', 'min_seg_size_forward', 'Active Mean',\n",
       "       'Active Std', 'Active Max', 'Active Min', 'Idle Mean', 'Idle Std',\n",
       "       'Idle Max', 'Idle Min', 'Label'], dtype=object)"
      ]
     },
     "execution_count": 38,
     "metadata": {},
     "output_type": "execute_result"
    }
   ],
   "source": [
    "reduced_features=reduced_df.columns.values\n",
    "reduced_features"
   ]
  },
  {
   "cell_type": "markdown",
   "metadata": {},
   "source": [
    "10 features have been removed, leaving us with 78-10=68 features. \n",
    "\n",
    "Let's save their histograms in a separate directory. This will help us choose features for further transformations to come from the remaining feature set."
   ]
  },
  {
   "cell_type": "code",
   "execution_count": 21,
   "metadata": {},
   "outputs": [],
   "source": [
    "for index, feature in enumerate(reduced_features,1):\n",
    "    fig = plt.figure()\n",
    "    reduced_df[feature].hist()\n",
    "    plt.title(feature+' Distribution')\n",
    "    plt.xlabel('Value')\n",
    "    plt.ylabel('Count')\n",
    "    plt.savefig('./figures/'+day_of_week+'/reduced_features/'+str(index)+'_'+feature+'_Histogram.png')\n",
    "    plt.close(fig)"
   ]
  },
  {
   "cell_type": "code",
   "execution_count": 39,
   "metadata": {},
   "outputs": [],
   "source": [
    "reduced_df.to_pickle('../data/processed/Reduced/'+day_of_week+'_processed.pkl')"
   ]
  },
  {
   "cell_type": "markdown",
   "metadata": {},
   "source": [
    "### 2. Skewness transforms\n",
    "\n",
    "The histograms also showed us that the range of values for some of the features was very large, resulting in largely skewed values. Now let's try to do a transform on the remaining features to try to reshape their distribution to a more \"normal\" looking form."
   ]
  },
  {
   "cell_type": "code",
   "execution_count": 31,
   "metadata": {
    "scrolled": true
   },
   "outputs": [],
   "source": [
    "transform_candidates=np.array(['Flow Duration', 'Total Fwd Packets',\n",
    "       'Total Backward Packets', 'Total Length of Fwd Packets',\n",
    "       'Total Length of Bwd Packets', 'Fwd Packet Length Max',\n",
    "       'Fwd Packet Length Min', 'Fwd Packet Length Mean',\n",
    "       'Fwd Packet Length Std', 'Bwd Packet Length Max',\n",
    "       'Bwd Packet Length Min', 'Bwd Packet Length Mean',\n",
    "       'Bwd Packet Length Std', 'Flow Bytes per sec',\n",
    "       'Flow Packets per sec', 'Flow IAT Mean', 'Flow IAT Std',\n",
    "       'Flow IAT Max', 'Flow IAT Min', 'Fwd IAT Total', 'Fwd IAT Mean',\n",
    "       'Fwd IAT Std', 'Fwd IAT Max', 'Fwd IAT Min', 'Bwd IAT Total',\n",
    "       'Bwd IAT Mean', 'Bwd IAT Std', 'Bwd IAT Max', 'Bwd IAT Min',\n",
    "       'Fwd Header Length', 'Bwd Header Length',\n",
    "       'Fwd Packets per sec', 'Bwd Packets per sec', 'Min Packet Length',\n",
    "       'Max Packet Length', 'Packet Length Mean', 'Packet Length Std',\n",
    "       'Packet Length Variance',  'Down Up Ratio',\n",
    "       'Average Packet Size', 'Avg Fwd Segment Size',\n",
    "       'Avg Bwd Segment Size', 'Subflow Fwd Packets', 'Subflow Fwd Bytes',\n",
    "       'Subflow Bwd Packets', 'Subflow Bwd Bytes',\n",
    "       'Init_Win_bytes_forward', 'Init_Win_bytes_backward',\n",
    "       'act_data_pkt_fwd', 'min_seg_size_forward', 'Active Mean',\n",
    "       'Active Std', 'Active Max', 'Active Min', 'Idle Mean', 'Idle Std',\n",
    "       'Idle Max', 'Idle Min'])"
   ]
  },
  {
   "cell_type": "markdown",
   "metadata": {},
   "source": [
    "There are 10 (one being the class label) features excluded from the transformation list. These features are binary valued, therefore transformation does not make sense."
   ]
  },
  {
   "cell_type": "code",
   "execution_count": 32,
   "metadata": {},
   "outputs": [
    {
     "data": {
      "text/plain": [
       "array(['ACK Flag Count', 'Destination Port', 'ECE Flag Count',\n",
       "       'FIN Flag Count', 'Fwd PSH Flags', 'Label', 'PSH Flag Count',\n",
       "       'RST Flag Count', 'SYN Flag Count', 'URG Flag Count'], dtype=object)"
      ]
     },
     "execution_count": 32,
     "metadata": {},
     "output_type": "execute_result"
    }
   ],
   "source": [
    "no_transform_features=np.setdiff1d(reduced_features,transform_candidates)\n",
    "no_transform_features"
   ]
  },
  {
   "cell_type": "markdown",
   "metadata": {},
   "source": [
    "Since there are both positive and negative values across attributes as well as zero values, a log transform does not work. The standard transformer in this case is the 'Yeo-Johnson' transformation. \n",
    "\n",
    "Read more at: https://scikit-learn.org/stable/modules/preprocessing.html#preprocessing-transformer"
   ]
  },
  {
   "cell_type": "code",
   "execution_count": 33,
   "metadata": {},
   "outputs": [],
   "source": [
    "transformed_df=pandas.DataFrame()\n",
    "\n",
    "for feature in reduced_features:\n",
    "    if feature in transform_candidates:\n",
    "        transformed_df.loc[:,feature]=power_transform(reduced_df.loc[:,feature].values.reshape(-1,1),method='yeo-johnson')\n",
    "    else:\n",
    "        transformed_df.loc[:,feature]=reduced_df.loc[:,feature]"
   ]
  },
  {
   "cell_type": "code",
   "execution_count": 34,
   "metadata": {},
   "outputs": [
    {
     "data": {
      "text/html": [
       "<div>\n",
       "<style scoped>\n",
       "    .dataframe tbody tr th:only-of-type {\n",
       "        vertical-align: middle;\n",
       "    }\n",
       "\n",
       "    .dataframe tbody tr th {\n",
       "        vertical-align: top;\n",
       "    }\n",
       "\n",
       "    .dataframe thead th {\n",
       "        text-align: right;\n",
       "    }\n",
       "</style>\n",
       "<table border=\"1\" class=\"dataframe\">\n",
       "  <thead>\n",
       "    <tr style=\"text-align: right;\">\n",
       "      <th></th>\n",
       "      <th>Destination Port</th>\n",
       "      <th>Flow Duration</th>\n",
       "      <th>Total Fwd Packets</th>\n",
       "      <th>Total Backward Packets</th>\n",
       "      <th>Total Length of Fwd Packets</th>\n",
       "      <th>Total Length of Bwd Packets</th>\n",
       "      <th>Fwd Packet Length Max</th>\n",
       "      <th>Fwd Packet Length Min</th>\n",
       "      <th>Fwd Packet Length Mean</th>\n",
       "      <th>Fwd Packet Length Std</th>\n",
       "      <th>...</th>\n",
       "      <th>act_data_pkt_fwd</th>\n",
       "      <th>min_seg_size_forward</th>\n",
       "      <th>Active Mean</th>\n",
       "      <th>Active Std</th>\n",
       "      <th>Active Max</th>\n",
       "      <th>Active Min</th>\n",
       "      <th>Idle Mean</th>\n",
       "      <th>Idle Std</th>\n",
       "      <th>Idle Max</th>\n",
       "      <th>Idle Min</th>\n",
       "    </tr>\n",
       "  </thead>\n",
       "  <tbody>\n",
       "    <tr>\n",
       "      <td>count</td>\n",
       "      <td>691406.000000</td>\n",
       "      <td>6.914060e+05</td>\n",
       "      <td>6.914060e+05</td>\n",
       "      <td>6.914060e+05</td>\n",
       "      <td>6.914060e+05</td>\n",
       "      <td>6.914060e+05</td>\n",
       "      <td>6.914060e+05</td>\n",
       "      <td>6.914060e+05</td>\n",
       "      <td>6.914060e+05</td>\n",
       "      <td>6.914060e+05</td>\n",
       "      <td>...</td>\n",
       "      <td>6.914060e+05</td>\n",
       "      <td>6.914060e+05</td>\n",
       "      <td>6.914060e+05</td>\n",
       "      <td>6.914060e+05</td>\n",
       "      <td>6.914060e+05</td>\n",
       "      <td>6.914060e+05</td>\n",
       "      <td>6.914060e+05</td>\n",
       "      <td>6.914060e+05</td>\n",
       "      <td>6.914060e+05</td>\n",
       "      <td>6.914060e+05</td>\n",
       "    </tr>\n",
       "    <tr>\n",
       "      <td>mean</td>\n",
       "      <td>5683.120410</td>\n",
       "      <td>4.794734e-16</td>\n",
       "      <td>1.983007e-16</td>\n",
       "      <td>-3.120853e-16</td>\n",
       "      <td>-8.813367e-17</td>\n",
       "      <td>-1.450259e-16</td>\n",
       "      <td>8.543704e-16</td>\n",
       "      <td>-2.052067e-16</td>\n",
       "      <td>6.465328e-16</td>\n",
       "      <td>1.052342e-17</td>\n",
       "      <td>...</td>\n",
       "      <td>-2.499313e-17</td>\n",
       "      <td>3.275251e-15</td>\n",
       "      <td>2.078376e-16</td>\n",
       "      <td>1.479856e-17</td>\n",
       "      <td>-4.580977e-16</td>\n",
       "      <td>2.104685e-16</td>\n",
       "      <td>1.802136e-16</td>\n",
       "      <td>9.832823e-17</td>\n",
       "      <td>3.656889e-16</td>\n",
       "      <td>-2.045490e-16</td>\n",
       "    </tr>\n",
       "    <tr>\n",
       "      <td>std</td>\n",
       "      <td>15722.340146</td>\n",
       "      <td>1.000001e+00</td>\n",
       "      <td>1.000001e+00</td>\n",
       "      <td>1.000001e+00</td>\n",
       "      <td>1.000001e+00</td>\n",
       "      <td>1.000001e+00</td>\n",
       "      <td>1.000001e+00</td>\n",
       "      <td>1.000001e+00</td>\n",
       "      <td>1.000001e+00</td>\n",
       "      <td>1.000001e+00</td>\n",
       "      <td>...</td>\n",
       "      <td>1.000001e+00</td>\n",
       "      <td>1.000001e+00</td>\n",
       "      <td>1.000001e+00</td>\n",
       "      <td>1.000001e+00</td>\n",
       "      <td>1.000001e+00</td>\n",
       "      <td>1.000001e+00</td>\n",
       "      <td>1.000001e+00</td>\n",
       "      <td>1.000001e+00</td>\n",
       "      <td>1.000001e+00</td>\n",
       "      <td>1.000001e+00</td>\n",
       "    </tr>\n",
       "    <tr>\n",
       "      <td>min</td>\n",
       "      <td>0.000000</td>\n",
       "      <td>-1.909622e+00</td>\n",
       "      <td>-1.525682e+00</td>\n",
       "      <td>-1.526514e+00</td>\n",
       "      <td>-1.628975e+00</td>\n",
       "      <td>-1.328361e+00</td>\n",
       "      <td>-1.578769e+00</td>\n",
       "      <td>-8.259742e-01</td>\n",
       "      <td>-1.686634e+00</td>\n",
       "      <td>-8.929728e-01</td>\n",
       "      <td>...</td>\n",
       "      <td>-1.312139e+00</td>\n",
       "      <td>-5.235059e+00</td>\n",
       "      <td>-6.682325e-01</td>\n",
       "      <td>-2.623876e-01</td>\n",
       "      <td>-6.674971e-01</td>\n",
       "      <td>-6.689406e-01</td>\n",
       "      <td>-7.049336e-01</td>\n",
       "      <td>-2.817000e-01</td>\n",
       "      <td>-7.049363e-01</td>\n",
       "      <td>-7.049090e-01</td>\n",
       "    </tr>\n",
       "    <tr>\n",
       "      <td>25%</td>\n",
       "      <td>53.000000</td>\n",
       "      <td>-9.846914e-01</td>\n",
       "      <td>-5.547218e-01</td>\n",
       "      <td>-5.373832e-01</td>\n",
       "      <td>-7.581861e-01</td>\n",
       "      <td>-1.328361e+00</td>\n",
       "      <td>-9.066696e-01</td>\n",
       "      <td>-8.259742e-01</td>\n",
       "      <td>-8.259480e-01</td>\n",
       "      <td>-8.929728e-01</td>\n",
       "      <td>...</td>\n",
       "      <td>-1.312139e+00</td>\n",
       "      <td>-1.068829e+00</td>\n",
       "      <td>-6.682325e-01</td>\n",
       "      <td>-2.623876e-01</td>\n",
       "      <td>-6.674971e-01</td>\n",
       "      <td>-6.689406e-01</td>\n",
       "      <td>-7.049336e-01</td>\n",
       "      <td>-2.817000e-01</td>\n",
       "      <td>-7.049363e-01</td>\n",
       "      <td>-7.049090e-01</td>\n",
       "    </tr>\n",
       "    <tr>\n",
       "      <td>50%</td>\n",
       "      <td>80.000000</td>\n",
       "      <td>-9.318346e-02</td>\n",
       "      <td>-5.547218e-01</td>\n",
       "      <td>-3.518820e-02</td>\n",
       "      <td>-7.480104e-04</td>\n",
       "      <td>9.975822e-03</td>\n",
       "      <td>-1.023874e-01</td>\n",
       "      <td>-8.259742e-01</td>\n",
       "      <td>2.757057e-01</td>\n",
       "      <td>-8.929728e-01</td>\n",
       "      <td>...</td>\n",
       "      <td>5.796008e-02</td>\n",
       "      <td>8.335120e-01</td>\n",
       "      <td>-6.682325e-01</td>\n",
       "      <td>-2.623876e-01</td>\n",
       "      <td>-6.674971e-01</td>\n",
       "      <td>-6.689406e-01</td>\n",
       "      <td>-7.049336e-01</td>\n",
       "      <td>-2.817000e-01</td>\n",
       "      <td>-7.049363e-01</td>\n",
       "      <td>-7.049090e-01</td>\n",
       "    </tr>\n",
       "    <tr>\n",
       "      <td>75%</td>\n",
       "      <td>443.000000</td>\n",
       "      <td>1.207579e+00</td>\n",
       "      <td>9.604115e-01</td>\n",
       "      <td>8.599716e-01</td>\n",
       "      <td>6.967329e-01</td>\n",
       "      <td>1.205817e+00</td>\n",
       "      <td>9.249767e-01</td>\n",
       "      <td>1.286335e+00</td>\n",
       "      <td>5.117634e-01</td>\n",
       "      <td>1.138914e+00</td>\n",
       "      <td>...</td>\n",
       "      <td>6.349606e-01</td>\n",
       "      <td>8.335120e-01</td>\n",
       "      <td>1.405647e+00</td>\n",
       "      <td>-2.623876e-01</td>\n",
       "      <td>1.393732e+00</td>\n",
       "      <td>1.424703e+00</td>\n",
       "      <td>1.381598e+00</td>\n",
       "      <td>-2.817000e-01</td>\n",
       "      <td>1.385160e+00</td>\n",
       "      <td>1.365750e+00</td>\n",
       "    </tr>\n",
       "    <tr>\n",
       "      <td>max</td>\n",
       "      <td>65487.000000</td>\n",
       "      <td>1.279739e+00</td>\n",
       "      <td>2.647183e+00</td>\n",
       "      <td>4.305271e+00</td>\n",
       "      <td>6.520178e+00</td>\n",
       "      <td>5.114445e+00</td>\n",
       "      <td>4.023305e+00</td>\n",
       "      <td>1.825639e+00</td>\n",
       "      <td>5.537890e+00</td>\n",
       "      <td>1.851665e+00</td>\n",
       "      <td>...</td>\n",
       "      <td>2.767409e+00</td>\n",
       "      <td>4.868940e+00</td>\n",
       "      <td>1.736163e+00</td>\n",
       "      <td>3.812521e+00</td>\n",
       "      <td>1.743204e+00</td>\n",
       "      <td>1.731721e+00</td>\n",
       "      <td>1.450165e+00</td>\n",
       "      <td>3.550408e+00</td>\n",
       "      <td>1.449153e+00</td>\n",
       "      <td>1.452538e+00</td>\n",
       "    </tr>\n",
       "  </tbody>\n",
       "</table>\n",
       "<p>8 rows × 67 columns</p>\n",
       "</div>"
      ],
      "text/plain": [
       "       Destination Port  Flow Duration  Total Fwd Packets  \\\n",
       "count     691406.000000   6.914060e+05       6.914060e+05   \n",
       "mean        5683.120410   4.794734e-16       1.983007e-16   \n",
       "std        15722.340146   1.000001e+00       1.000001e+00   \n",
       "min            0.000000  -1.909622e+00      -1.525682e+00   \n",
       "25%           53.000000  -9.846914e-01      -5.547218e-01   \n",
       "50%           80.000000  -9.318346e-02      -5.547218e-01   \n",
       "75%          443.000000   1.207579e+00       9.604115e-01   \n",
       "max        65487.000000   1.279739e+00       2.647183e+00   \n",
       "\n",
       "       Total Backward Packets  Total Length of Fwd Packets  \\\n",
       "count            6.914060e+05                 6.914060e+05   \n",
       "mean            -3.120853e-16                -8.813367e-17   \n",
       "std              1.000001e+00                 1.000001e+00   \n",
       "min             -1.526514e+00                -1.628975e+00   \n",
       "25%             -5.373832e-01                -7.581861e-01   \n",
       "50%             -3.518820e-02                -7.480104e-04   \n",
       "75%              8.599716e-01                 6.967329e-01   \n",
       "max              4.305271e+00                 6.520178e+00   \n",
       "\n",
       "       Total Length of Bwd Packets  Fwd Packet Length Max  \\\n",
       "count                 6.914060e+05           6.914060e+05   \n",
       "mean                 -1.450259e-16           8.543704e-16   \n",
       "std                   1.000001e+00           1.000001e+00   \n",
       "min                  -1.328361e+00          -1.578769e+00   \n",
       "25%                  -1.328361e+00          -9.066696e-01   \n",
       "50%                   9.975822e-03          -1.023874e-01   \n",
       "75%                   1.205817e+00           9.249767e-01   \n",
       "max                   5.114445e+00           4.023305e+00   \n",
       "\n",
       "       Fwd Packet Length Min  Fwd Packet Length Mean  Fwd Packet Length Std  \\\n",
       "count           6.914060e+05            6.914060e+05           6.914060e+05   \n",
       "mean           -2.052067e-16            6.465328e-16           1.052342e-17   \n",
       "std             1.000001e+00            1.000001e+00           1.000001e+00   \n",
       "min            -8.259742e-01           -1.686634e+00          -8.929728e-01   \n",
       "25%            -8.259742e-01           -8.259480e-01          -8.929728e-01   \n",
       "50%            -8.259742e-01            2.757057e-01          -8.929728e-01   \n",
       "75%             1.286335e+00            5.117634e-01           1.138914e+00   \n",
       "max             1.825639e+00            5.537890e+00           1.851665e+00   \n",
       "\n",
       "       ...  act_data_pkt_fwd  min_seg_size_forward   Active Mean  \\\n",
       "count  ...      6.914060e+05          6.914060e+05  6.914060e+05   \n",
       "mean   ...     -2.499313e-17          3.275251e-15  2.078376e-16   \n",
       "std    ...      1.000001e+00          1.000001e+00  1.000001e+00   \n",
       "min    ...     -1.312139e+00         -5.235059e+00 -6.682325e-01   \n",
       "25%    ...     -1.312139e+00         -1.068829e+00 -6.682325e-01   \n",
       "50%    ...      5.796008e-02          8.335120e-01 -6.682325e-01   \n",
       "75%    ...      6.349606e-01          8.335120e-01  1.405647e+00   \n",
       "max    ...      2.767409e+00          4.868940e+00  1.736163e+00   \n",
       "\n",
       "         Active Std    Active Max    Active Min     Idle Mean      Idle Std  \\\n",
       "count  6.914060e+05  6.914060e+05  6.914060e+05  6.914060e+05  6.914060e+05   \n",
       "mean   1.479856e-17 -4.580977e-16  2.104685e-16  1.802136e-16  9.832823e-17   \n",
       "std    1.000001e+00  1.000001e+00  1.000001e+00  1.000001e+00  1.000001e+00   \n",
       "min   -2.623876e-01 -6.674971e-01 -6.689406e-01 -7.049336e-01 -2.817000e-01   \n",
       "25%   -2.623876e-01 -6.674971e-01 -6.689406e-01 -7.049336e-01 -2.817000e-01   \n",
       "50%   -2.623876e-01 -6.674971e-01 -6.689406e-01 -7.049336e-01 -2.817000e-01   \n",
       "75%   -2.623876e-01  1.393732e+00  1.424703e+00  1.381598e+00 -2.817000e-01   \n",
       "max    3.812521e+00  1.743204e+00  1.731721e+00  1.450165e+00  3.550408e+00   \n",
       "\n",
       "           Idle Max      Idle Min  \n",
       "count  6.914060e+05  6.914060e+05  \n",
       "mean   3.656889e-16 -2.045490e-16  \n",
       "std    1.000001e+00  1.000001e+00  \n",
       "min   -7.049363e-01 -7.049090e-01  \n",
       "25%   -7.049363e-01 -7.049090e-01  \n",
       "50%   -7.049363e-01 -7.049090e-01  \n",
       "75%    1.385160e+00  1.365750e+00  \n",
       "max    1.449153e+00  1.452538e+00  \n",
       "\n",
       "[8 rows x 67 columns]"
      ]
     },
     "execution_count": 34,
     "metadata": {},
     "output_type": "execute_result"
    }
   ],
   "source": [
    "transformed_df.describe()"
   ]
  },
  {
   "cell_type": "markdown",
   "metadata": {},
   "source": [
    "We save the histograms of the transformed features once again to confirm that transformations have worked as intended."
   ]
  },
  {
   "cell_type": "code",
   "execution_count": 35,
   "metadata": {},
   "outputs": [],
   "source": [
    "for index, feature in enumerate(reduced_features,1):\n",
    "    fig = plt.figure()\n",
    "    transformed_df[feature].hist()\n",
    "    plt.title(feature+' Distribution')\n",
    "    plt.xlabel('Value')\n",
    "    plt.ylabel('Count')\n",
    "    plt.savefig('./figures/'+day_of_week+'/transformed_features/'+str(index)+'_'+feature+'_Histogram.png')\n",
    "    plt.close(fig)"
   ]
  },
  {
   "cell_type": "markdown",
   "metadata": {},
   "source": [
    "We finally pickle the resulting data frame after processing into the processed data directory."
   ]
  },
  {
   "cell_type": "code",
   "execution_count": 36,
   "metadata": {},
   "outputs": [],
   "source": [
    "transformed_df.to_pickle('../data/processed/Normalized/'+day_of_week+'_processed.pkl')"
   ]
  }
 ],
 "metadata": {
  "kernelspec": {
   "display_name": "Python [conda env:insight]",
   "language": "python",
   "name": "conda-env-insight-py"
  },
  "language_info": {
   "codemirror_mode": {
    "name": "ipython",
    "version": 3
   },
   "file_extension": ".py",
   "mimetype": "text/x-python",
   "name": "python",
   "nbconvert_exporter": "python",
   "pygments_lexer": "ipython3",
   "version": "3.7.4"
  }
 },
 "nbformat": 4,
 "nbformat_minor": 4
}
