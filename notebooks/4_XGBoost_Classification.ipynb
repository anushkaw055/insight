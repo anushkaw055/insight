{
 "cells": [
  {
   "cell_type": "code",
   "execution_count": 3,
   "metadata": {},
   "outputs": [],
   "source": [
    "import numpy as np\n",
    "import pandas as pd\n",
    "import os\n",
    "import matplotlib.pyplot as plt\n",
    "import seaborn as sns\n",
    "import pickle\n",
    "import datetime\n",
    "\n",
    "%matplotlib inline\n",
    "plt.rcParams['figure.figsize'] = [10, 8]\n",
    "\n",
    "\n",
    "from sklearn.metrics import accuracy_score, confusion_matrix, roc_auc_score\n",
    "from sklearn.model_selection import KFold\n",
    "from sklearn.preprocessing import LabelBinarizer\n",
    "\n",
    "import xgboost as xgb"
   ]
  },
  {
   "cell_type": "markdown",
   "metadata": {},
   "source": [
    "### Load the data"
   ]
  },
  {
   "cell_type": "code",
   "execution_count": 4,
   "metadata": {},
   "outputs": [],
   "source": [
    "day_of_week='Wednesday'\n",
    "\n",
    "data_directory='../data/processed'\n",
    "file_name=day_of_week+'_processed.pkl'\n",
    "\n",
    "data_file=os.path.join(data_directory,file_name)"
   ]
  },
  {
   "cell_type": "code",
   "execution_count": 5,
   "metadata": {},
   "outputs": [
    {
     "data": {
      "text/html": [
       "<div>\n",
       "<style scoped>\n",
       "    .dataframe tbody tr th:only-of-type {\n",
       "        vertical-align: middle;\n",
       "    }\n",
       "\n",
       "    .dataframe tbody tr th {\n",
       "        vertical-align: top;\n",
       "    }\n",
       "\n",
       "    .dataframe thead th {\n",
       "        text-align: right;\n",
       "    }\n",
       "</style>\n",
       "<table border=\"1\" class=\"dataframe\">\n",
       "  <thead>\n",
       "    <tr style=\"text-align: right;\">\n",
       "      <th></th>\n",
       "      <th>Destination Port</th>\n",
       "      <th>Flow Duration</th>\n",
       "      <th>Total Fwd Packets</th>\n",
       "      <th>Total Backward Packets</th>\n",
       "      <th>Total Length of Fwd Packets</th>\n",
       "      <th>Total Length of Bwd Packets</th>\n",
       "      <th>Fwd Packet Length Max</th>\n",
       "      <th>Fwd Packet Length Min</th>\n",
       "      <th>Fwd Packet Length Mean</th>\n",
       "      <th>Fwd Packet Length Std</th>\n",
       "      <th>...</th>\n",
       "      <th>min_seg_size_forward</th>\n",
       "      <th>Active Mean</th>\n",
       "      <th>Active Std</th>\n",
       "      <th>Active Max</th>\n",
       "      <th>Active Min</th>\n",
       "      <th>Idle Mean</th>\n",
       "      <th>Idle Std</th>\n",
       "      <th>Idle Max</th>\n",
       "      <th>Idle Min</th>\n",
       "      <th>Label</th>\n",
       "    </tr>\n",
       "  </thead>\n",
       "  <tbody>\n",
       "    <tr>\n",
       "      <td>0</td>\n",
       "      <td>80</td>\n",
       "      <td>-0.171623</td>\n",
       "      <td>-1.525682</td>\n",
       "      <td>-0.537383</td>\n",
       "      <td>-0.985881</td>\n",
       "      <td>-0.854012</td>\n",
       "      <td>-0.906670</td>\n",
       "      <td>0.699029</td>\n",
       "      <td>-0.825948</td>\n",
       "      <td>-0.892973</td>\n",
       "      <td>...</td>\n",
       "      <td>-1.068829</td>\n",
       "      <td>-0.668233</td>\n",
       "      <td>-0.262388</td>\n",
       "      <td>-0.667497</td>\n",
       "      <td>-0.668941</td>\n",
       "      <td>-0.704934</td>\n",
       "      <td>-0.2817</td>\n",
       "      <td>-0.704936</td>\n",
       "      <td>-0.704909</td>\n",
       "      <td>BENIGN</td>\n",
       "    </tr>\n",
       "    <tr>\n",
       "      <td>1</td>\n",
       "      <td>389</td>\n",
       "      <td>-0.857651</td>\n",
       "      <td>1.353208</td>\n",
       "      <td>0.711236</td>\n",
       "      <td>0.333602</td>\n",
       "      <td>0.161480</td>\n",
       "      <td>0.152381</td>\n",
       "      <td>-0.825974</td>\n",
       "      <td>-0.337056</td>\n",
       "      <td>0.732250</td>\n",
       "      <td>...</td>\n",
       "      <td>0.833512</td>\n",
       "      <td>-0.668233</td>\n",
       "      <td>-0.262388</td>\n",
       "      <td>-0.667497</td>\n",
       "      <td>-0.668941</td>\n",
       "      <td>-0.704934</td>\n",
       "      <td>-0.2817</td>\n",
       "      <td>-0.704936</td>\n",
       "      <td>-0.704909</td>\n",
       "      <td>BENIGN</td>\n",
       "    </tr>\n",
       "    <tr>\n",
       "      <td>2</td>\n",
       "      <td>88</td>\n",
       "      <td>-0.733438</td>\n",
       "      <td>1.277448</td>\n",
       "      <td>0.859972</td>\n",
       "      <td>1.877072</td>\n",
       "      <td>0.812508</td>\n",
       "      <td>1.874575</td>\n",
       "      <td>-0.825974</td>\n",
       "      <td>2.014803</td>\n",
       "      <td>1.491230</td>\n",
       "      <td>...</td>\n",
       "      <td>0.833512</td>\n",
       "      <td>-0.668233</td>\n",
       "      <td>-0.262388</td>\n",
       "      <td>-0.667497</td>\n",
       "      <td>-0.668941</td>\n",
       "      <td>-0.704934</td>\n",
       "      <td>-0.2817</td>\n",
       "      <td>-0.704936</td>\n",
       "      <td>-0.704909</td>\n",
       "      <td>BENIGN</td>\n",
       "    </tr>\n",
       "    <tr>\n",
       "      <td>3</td>\n",
       "      <td>389</td>\n",
       "      <td>-0.322022</td>\n",
       "      <td>1.654655</td>\n",
       "      <td>1.401459</td>\n",
       "      <td>1.932152</td>\n",
       "      <td>1.036734</td>\n",
       "      <td>1.753461</td>\n",
       "      <td>-0.825974</td>\n",
       "      <td>1.583637</td>\n",
       "      <td>1.412771</td>\n",
       "      <td>...</td>\n",
       "      <td>0.833512</td>\n",
       "      <td>-0.668233</td>\n",
       "      <td>-0.262388</td>\n",
       "      <td>-0.667497</td>\n",
       "      <td>-0.668941</td>\n",
       "      <td>-0.704934</td>\n",
       "      <td>-0.2817</td>\n",
       "      <td>-0.704936</td>\n",
       "      <td>-0.704909</td>\n",
       "      <td>BENIGN</td>\n",
       "    </tr>\n",
       "    <tr>\n",
       "      <td>4</td>\n",
       "      <td>88</td>\n",
       "      <td>-0.733854</td>\n",
       "      <td>1.189372</td>\n",
       "      <td>0.859972</td>\n",
       "      <td>1.877072</td>\n",
       "      <td>0.812696</td>\n",
       "      <td>1.874575</td>\n",
       "      <td>-0.825974</td>\n",
       "      <td>2.123422</td>\n",
       "      <td>1.508930</td>\n",
       "      <td>...</td>\n",
       "      <td>0.833512</td>\n",
       "      <td>-0.668233</td>\n",
       "      <td>-0.262388</td>\n",
       "      <td>-0.667497</td>\n",
       "      <td>-0.668941</td>\n",
       "      <td>-0.704934</td>\n",
       "      <td>-0.2817</td>\n",
       "      <td>-0.704936</td>\n",
       "      <td>-0.704909</td>\n",
       "      <td>BENIGN</td>\n",
       "    </tr>\n",
       "  </tbody>\n",
       "</table>\n",
       "<p>5 rows × 68 columns</p>\n",
       "</div>"
      ],
      "text/plain": [
       "   Destination Port  Flow Duration  Total Fwd Packets  Total Backward Packets  \\\n",
       "0                80      -0.171623          -1.525682               -0.537383   \n",
       "1               389      -0.857651           1.353208                0.711236   \n",
       "2                88      -0.733438           1.277448                0.859972   \n",
       "3               389      -0.322022           1.654655                1.401459   \n",
       "4                88      -0.733854           1.189372                0.859972   \n",
       "\n",
       "   Total Length of Fwd Packets  Total Length of Bwd Packets  \\\n",
       "0                    -0.985881                    -0.854012   \n",
       "1                     0.333602                     0.161480   \n",
       "2                     1.877072                     0.812508   \n",
       "3                     1.932152                     1.036734   \n",
       "4                     1.877072                     0.812696   \n",
       "\n",
       "   Fwd Packet Length Max  Fwd Packet Length Min  Fwd Packet Length Mean  \\\n",
       "0              -0.906670               0.699029               -0.825948   \n",
       "1               0.152381              -0.825974               -0.337056   \n",
       "2               1.874575              -0.825974                2.014803   \n",
       "3               1.753461              -0.825974                1.583637   \n",
       "4               1.874575              -0.825974                2.123422   \n",
       "\n",
       "   Fwd Packet Length Std  ...  min_seg_size_forward  Active Mean  Active Std  \\\n",
       "0              -0.892973  ...             -1.068829    -0.668233   -0.262388   \n",
       "1               0.732250  ...              0.833512    -0.668233   -0.262388   \n",
       "2               1.491230  ...              0.833512    -0.668233   -0.262388   \n",
       "3               1.412771  ...              0.833512    -0.668233   -0.262388   \n",
       "4               1.508930  ...              0.833512    -0.668233   -0.262388   \n",
       "\n",
       "   Active Max  Active Min  Idle Mean  Idle Std  Idle Max  Idle Min   Label  \n",
       "0   -0.667497   -0.668941  -0.704934   -0.2817 -0.704936 -0.704909  BENIGN  \n",
       "1   -0.667497   -0.668941  -0.704934   -0.2817 -0.704936 -0.704909  BENIGN  \n",
       "2   -0.667497   -0.668941  -0.704934   -0.2817 -0.704936 -0.704909  BENIGN  \n",
       "3   -0.667497   -0.668941  -0.704934   -0.2817 -0.704936 -0.704909  BENIGN  \n",
       "4   -0.667497   -0.668941  -0.704934   -0.2817 -0.704936 -0.704909  BENIGN  \n",
       "\n",
       "[5 rows x 68 columns]"
      ]
     },
     "execution_count": 5,
     "metadata": {},
     "output_type": "execute_result"
    }
   ],
   "source": [
    "df=pd.read_pickle(data_file)\n",
    "df.head()"
   ]
  },
  {
   "cell_type": "code",
   "execution_count": 6,
   "metadata": {},
   "outputs": [],
   "source": [
    "def display_scores(scores):\n",
    "    print(\"Scores: {0}\\nMean: {1:.3f}\\nStd: {2:.3f}\".format(scores, np.mean(scores), np.std(scores)))"
   ]
  },
  {
   "cell_type": "markdown",
   "metadata": {},
   "source": [
    "## Preparing the Dataset for Classification \n",
    "\n",
    "Here we need to separate our class variable, which in our case is \"Label\" from the rest of the dataset."
   ]
  },
  {
   "cell_type": "code",
   "execution_count": 7,
   "metadata": {},
   "outputs": [
    {
     "data": {
      "text/plain": [
       "array(['BENIGN', 'BENIGN', 'BENIGN', ..., 'BENIGN', 'BENIGN', 'BENIGN'],\n",
       "      dtype=object)"
      ]
     },
     "execution_count": 7,
     "metadata": {},
     "output_type": "execute_result"
    }
   ],
   "source": [
    "y=np.array(df['Label'])\n",
    "y"
   ]
  },
  {
   "cell_type": "code",
   "execution_count": 8,
   "metadata": {},
   "outputs": [
    {
     "data": {
      "text/plain": [
       "array([0, 0, 0, ..., 0, 0, 0])"
      ]
     },
     "execution_count": 8,
     "metadata": {},
     "output_type": "execute_result"
    }
   ],
   "source": [
    "y_binary= y!='BENIGN'\n",
    "y_binary.astype(int)"
   ]
  },
  {
   "cell_type": "code",
   "execution_count": 9,
   "metadata": {},
   "outputs": [
    {
     "data": {
      "text/plain": [
       "(691406, 67)"
      ]
     },
     "execution_count": 9,
     "metadata": {},
     "output_type": "execute_result"
    }
   ],
   "source": [
    "X=np.array(df.loc[:, df.columns != 'Label'])\n",
    "X.shape"
   ]
  },
  {
   "cell_type": "markdown",
   "metadata": {},
   "source": [
    "## Training and predicting XGBoost w/ cross validation\n",
    "\n",
    "We will use 5-fold cross validation to evaluate the performance of the xgboost classifier on our dataset.\n",
    "\n",
    "https://www.kaggle.com/stuarthallows/using-xgboost-with-scikit-learn"
   ]
  },
  {
   "cell_type": "code",
   "execution_count": 10,
   "metadata": {},
   "outputs": [],
   "source": [
    "kfold = KFold(n_splits=5, shufday_of_weekue, random_state=55)\n",
    "\n",
    "cm = []\n",
    "acc = []\n",
    "auc_score = []\n",
    "\n",
    "for train_index, test_index in kfold.split(X):   \n",
    "    \n",
    "    X_train, X_test = X[train_index], X[test_index]\n",
    "    y_train, y_test = y_binary[train_index], y_binary[test_index]\n",
    "\n",
    "    xgb_model = xgb.XGBClassifier(objective=\"binary:logistic\", random_state=42)\n",
    "    xgb_model.fit(X_train, y_train)\n",
    "    \n",
    "    y_pred = xgb_model.predict(X_test)\n",
    "    \n",
    "    cm.append(confusion_matrix(y_test,y_pred))\n",
    "    acc.append(accuracy_score(y_test,y_pred))\n",
    "    auc_score.append(roc_auc_score(y_test,y_pred))\n",
    "    "
   ]
  },
  {
   "cell_type": "code",
   "execution_count": 15,
   "metadata": {},
   "outputs": [
    {
     "name": "stdout",
     "output_type": "stream",
     "text": [
      "Scores: [0.9984813641688723, 0.9984596582321504, 0.9983222568537977, 0.9982933302478287, 0.9981559288694759]\n",
      "Mean: 0.998\n",
      "Std: 0.000\n"
     ]
    }
   ],
   "source": [
    "display_scores(acc)"
   ]
  },
  {
   "cell_type": "code",
   "execution_count": 16,
   "metadata": {},
   "outputs": [
    {
     "name": "stdout",
     "output_type": "stream",
     "text": [
      "Scores: [0.9987039015025628, 0.9986227694583334, 0.9985249598593898, 0.9984957230306675, 0.9983597266869628]\n",
      "Mean: 0.999\n",
      "Std: 0.000\n"
     ]
    }
   ],
   "source": [
    "display_scores(auc_score)"
   ]
  },
  {
   "cell_type": "markdown",
   "metadata": {},
   "source": [
    "## Save the trained model\n",
    "\n",
    "Let's pickle our saved model as a serialized binary file for later fetching."
   ]
  },
  {
   "cell_type": "code",
   "execution_count": 13,
   "metadata": {},
   "outputs": [],
   "source": [
    "filename='./models/xgb_model_'+day_of_week+'.pkl'\n",
    "\n",
    "with open(filename,'wb') as file:\n",
    "    pickle.dump(xgb_model,file)"
   ]
  },
  {
   "cell_type": "markdown",
   "metadata": {},
   "source": [
    "## Load the pretrained xgboost model\n",
    "\n",
    "Use the following snippet of code to load the xgboost model for further analysis"
   ]
  },
  {
   "cell_type": "code",
   "execution_count": 27,
   "metadata": {},
   "outputs": [],
   "source": [
    "with open(filename,'rb') as file:\n",
    "    loaded_model=pickle.load(file)"
   ]
  },
  {
   "cell_type": "code",
   "execution_count": 20,
   "metadata": {},
   "outputs": [
    {
     "data": {
      "text/plain": [
       "<matplotlib.axes._subplots.AxesSubplot at 0x198a5464288>"
      ]
     },
     "execution_count": 20,
     "metadata": {},
     "output_type": "execute_result"
    },
    {
     "data": {
      "text/plain": [
       "<Figure size 864x720 with 0 Axes>"
      ]
     },
     "metadata": {},
     "output_type": "display_data"
    },
    {
     "data": {
      "image/png": "[encoded data removed]",
      "text/plain": [
       "<Figure size 432x288 with 1 Axes>"
      ]
     },
     "metadata": {
      "needs_background": "light"
     },
     "output_type": "display_data"
    }
   ],
   "source": [
    "fig=plt.figure(figsize=(12,10))\n",
    "xgb.plot_importance(xgb_model,height=1)"
   ]
  }
 ],
 "metadata": {
  "kernelspec": {
   "display_name": "Python [conda env:insight]",
   "language": "python",
   "name": "conda-env-insight-py"
  },
  "language_info": {
   "codemirror_mode": {
    "name": "ipython",
    "version": 3
   },
   "file_extension": ".py",
   "mimetype": "text/x-python",
   "name": "python",
   "nbconvert_exporter": "python",
   "pygments_lexer": "ipython3",
   "version": "3.7.4"
  }
 },
 "nbformat": 4,
 "nbformat_minor": 4
}
