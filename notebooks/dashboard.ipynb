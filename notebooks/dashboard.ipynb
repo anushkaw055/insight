{
 "cells": [
  {
   "cell_type": "code",
   "execution_count": 3,
   "metadata": {},
   "outputs": [],
   "source": [
    "%load_ext autoreload\n",
    "%autoreload\n",
    "\n",
    "import numpy as np\n",
    "import pandas as pd\n",
    "import os\n",
    "import sys\n",
    "import matplotlib.pyplot as plt\n",
    "import seaborn as sns\n",
    "import pickle\n",
    "import ipywidgets as widgets\n",
    "\n",
    "from IPython.display import clear_output\n",
    "\n",
    "module_path = os.path.abspath(os.path.join('..'))\n",
    "if module_path not in sys.path:\n",
    "    sys.path.append(module_path)\n",
    "    \n",
    "from anomalyzer.config import loader\n",
    "from anomalyzer.evaluate_performance import evaluate_performance\n",
    "from anomalyzer.prepare_data import prepare_data\n",
    "\n",
    "%matplotlib inline\n",
    "plt.rcParams['figure.figsize'] = [10, 8]\n",
    "\n",
    "from sklearn.metrics import accuracy_score, recall_score, precision_score, f1_score, confusion_matrix, roc_auc_score\n",
    "from sklearn.model_selection import KFold\n",
    "\n",
    "from sklearn.decomposition import PCA\n",
    "from sklearn.manifold import TSNE\n",
    "\n",
    "from sklearn.ensemble import IsolationForest\n",
    "from sklearn.svm import OneClassSVM\n",
    "from sklearn.covariance import EllipticEnvelope"
   ]
  },
  {
   "cell_type": "markdown",
   "metadata": {},
   "source": [
    "# Which day of the week do you want to analyze?"
   ]
  },
  {
   "cell_type": "code",
   "execution_count": 4,
   "metadata": {},
   "outputs": [
    {
     "data": {
      "application/vnd.jupyter.widget-view+json": {
       "model_id": "e3b9e23e60a949c1861a145c1a4748a2",
       "version_major": 2,
       "version_minor": 0
      },
      "text/plain": [
       "Dropdown(description='Day of Week:', options=('Tuesday',), value='Tuesday')"
      ]
     },
     "metadata": {},
     "output_type": "display_data"
    }
   ],
   "source": [
    "selection = widgets.Dropdown(\n",
    "    options=['Tuesday'],\n",
    "    description='Day of Week:',\n",
    "    disabled=False,\n",
    ")\n",
    "display(selection)"
   ]
  },
  {
   "cell_type": "markdown",
   "metadata": {},
   "source": [
    "## What fraction of total network traffic in the selected day do you want to inspect?\n",
    "\n",
    "Note: All network traffic might take some time to load. Suggested value is 0.1"
   ]
  },
  {
   "cell_type": "code",
   "execution_count": 5,
   "metadata": {},
   "outputs": [
    {
     "data": {
      "application/vnd.jupyter.widget-view+json": {
       "model_id": "9ddbbc1ee5f34e95b25e24e17f248ab5",
       "version_major": 2,
       "version_minor": 0
      },
      "text/plain": [
       "FloatSlider(value=0.1, continuous_update=False, description='Test:', max=1.0, step=0.01)"
      ]
     },
     "metadata": {},
     "output_type": "display_data"
    }
   ],
   "source": [
    "sample_size =widgets.FloatSlider(\n",
    "    value=0.1,\n",
    "    min=0,\n",
    "    max=1,\n",
    "    step=0.01,\n",
    "    description='Test:',\n",
    "    disabled=False,\n",
    "    continuous_update=False,\n",
    "    orientation='horizontal',\n",
    "    readout=True,\n",
    "    readout_format='.2f',\n",
    ")\n",
    "\n",
    "display(sample_size)"
   ]
  },
  {
   "cell_type": "code",
   "execution_count": 8,
   "metadata": {},
   "outputs": [
    {
     "data": {
      "application/vnd.jupyter.widget-view+json": {
       "model_id": "fc9ce101813a48e789e49ad1e5f30e0a",
       "version_major": 2,
       "version_minor": 0
      },
      "text/plain": [
       "Button(button_style='success', description='INSPECT', icon='check', style=ButtonStyle(), tooltip='Click to per…"
      ]
     },
     "metadata": {},
     "output_type": "display_data"
    },
    {
     "data": {
      "application/vnd.jupyter.widget-view+json": {
       "model_id": "fdceb08d994b46fa84dfe52dad8c8c06",
       "version_major": 2,
       "version_minor": 0
      },
      "text/plain": [
       "Output()"
      ]
     },
     "metadata": {},
     "output_type": "display_data"
    }
   ],
   "source": [
    "go_button =widgets.Button(\n",
    "    description='INSPECT',\n",
    "    disabled=False,\n",
    "    button_style='success', # 'success', 'info', 'warning', 'danger' or ''\n",
    "    tooltip='Click to perform anomaly detection',\n",
    "    icon='check'\n",
    ")\n",
    "go_output = widgets.Output()\n",
    "\n",
    "def go_button_clicked(b):\n",
    "    with go_output:\n",
    "        clear_output()\n",
    "        anomaly_detector(selection,sample_size)\n",
    "        \n",
    "go_button.on_click(go_button_clicked)\n",
    "\n",
    "display(go_button,go_output)"
   ]
  },
  {
   "cell_type": "code",
   "execution_count": 7,
   "metadata": {},
   "outputs": [],
   "source": [
    "def anomaly_detector(selection, sample_size, model='svm', new_dimension=25, predict=False):\n",
    "    \n",
    "\n",
    "\n",
    "    day_of_week = selection.value\n",
    "    frac = sample_size.value \n",
    "\n",
    "    data_file= loader(day_of_week=day_of_week,data_type='processed',subtype='Normalized')\n",
    "    df=pd.read_pickle(data_file)\n",
    "\n",
    "    X,y=prepare_data(data=df,class_column='Label',classes='binary',neg_class='BENIGN')\n",
    "\n",
    "    pca_model = PCA(n_components=new_dimension, random_state=4162)\n",
    "    pca_model.fit(X)\n",
    "    x_red_pca = pca_model.transform(X)\n",
    "\n",
    "    if predict:\n",
    "        filename='./models/'+str(model)+'_model_'+day_of_week+'_PCA_'+str(new_dimension)+'.pkl'\n",
    "\n",
    "        with open(filename,'rb') as file:\n",
    "            anomaly_model=pickle.load(file)\n",
    "        \n",
    "        anomalies = anomaly_model.predict(x_red_pca)\n",
    "    else:\n",
    "        filename='./predictions/'+model+'_anomalies_'+day_of_week+'_PCA_'+str(new_dimension)+'.pkl'\n",
    "        with open(filename,'rb') as file:\n",
    "            anomalies=pickle.load(file) \n",
    "        \n",
    "    anomalies = (anomalies+1)*0.5\n",
    "    anomalies = anomalies.astype(int)\n",
    "        \n",
    "    visuals_file='./tsne_transforms/day_of_week_perplexity_30_data_445645.pkl'\n",
    "\n",
    "    with open(visuals_file,'rb') as file:\n",
    "        x_vis=pickle.load(file)\n",
    "        \n",
    "    visual_sample = int(x_vis.shape[0]*frac)\n",
    "    index = np.random.randint(0,x_vis.shape[0],visual_sample)\n",
    "    x_red_vis = x_vis[index,:]    \n",
    "        \n",
    "    fig1=plt.figure(figsize=(15,10))\n",
    "    sns.scatterplot(x_red_vis[:,0],x_red_vis[:,1],hue=anomalies[index],hue_order=[1,0])\n",
    "    plt.title('Detected Anomalies for '+day_of_week+' Network Traffic')\n",
    "    plt.legend(['Anomaly','Normal'])\n",
    "    plt.show()\n",
    "    \n",
    "#     fig=plt.figure(num=2,figsize=(15,10))\n",
    "#     sns.scatterplot(x_vis[:,0],x_vis[:,1],hue=y,hue_order=[0,1])\n",
    "#     plt.title('Actual Attacks for '+day_of_week+' Network Traffic')\n",
    "#     plt.legend(['Anomaly','Normal'])\n",
    "#     plt.show()"
   ]
  },
  {
   "cell_type": "code",
   "execution_count": null,
   "metadata": {},
   "outputs": [],
   "source": []
  }
 ],
 "metadata": {
  "kernelspec": {
   "display_name": "Python 3",
   "language": "python",
   "name": "python3"
  },
  "language_info": {
   "codemirror_mode": {
    "name": "ipython",
    "version": 3
   },
   "file_extension": ".py",
   "mimetype": "text/x-python",
   "name": "python",
   "nbconvert_exporter": "python",
   "pygments_lexer": "ipython3",
   "version": "3.7.3"
  }
 },
 "nbformat": 4,
 "nbformat_minor": 4
}
